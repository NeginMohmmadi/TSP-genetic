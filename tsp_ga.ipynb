{
 "cells": [
  {
   "attachments": {},
   "cell_type": "markdown",
   "metadata": {},
   "source": [
    "# Solve TSP problem using Genetic Algorithm"
   ]
  },
  {
   "attachments": {},
   "cell_type": "markdown",
   "metadata": {},
   "source": [
    "## Import libraries"
   ]
  },
  {
   "cell_type": "code",
   "execution_count": 1,
   "metadata": {},
   "outputs": [],
   "source": [
    "import numpy as np, random, operator, pandas as pd, matplotlib.pyplot as plt"
   ]
  },
  {
   "attachments": {},
   "cell_type": "markdown",
   "metadata": {},
   "source": [
    "## Model Gen and Chromosome"
   ]
  },
  {
   "cell_type": "code",
   "execution_count": 2,
   "metadata": {},
   "outputs": [],
   "source": [
    "class City: # Gen in GA\n",
    "    def __init__(self, x, y):\n",
    "        self.x = x\n",
    "        self.y = y\n",
    "\n",
    "    def distance(self, city):\n",
    "        xDis = abs(self.x - city.x)\n",
    "        yDis = abs(self.y - city.y)\n",
    "        distance = np.sqrt((xDis ** 2) + (yDis ** 2))\n",
    "        return distance\n",
    "\n",
    "    def __repr__(self):\n",
    "        return \"(\" + str(self.x) + \",\" + str(self.y) + \")\""
   ]
  },
  {
   "cell_type": "code",
   "execution_count": 3,
   "metadata": {},
   "outputs": [],
   "source": [
    "class Route: # Chromosome in GA\n",
    "    def __init__(self, cities : list):\n",
    "        self.cities = cities\n",
    "        self.fitness = 0\n",
    "        self.distance = 0\n",
    "\n",
    "    def calculate_distance(self):\n",
    "        if self.distance == 0:\n",
    "            pathDistance = 0\n",
    "            for i in range(0, len(self.cities)):\n",
    "                fromCity = self.cities[i]\n",
    "                toCity = None\n",
    "                if i + 1 < len(self.cities):\n",
    "                    toCity = self.cities[i + 1]\n",
    "                else:\n",
    "                    toCity = self.cities[0]\n",
    "                pathDistance += fromCity.distance(toCity)\n",
    "            self.distance = pathDistance\n",
    "        return self.distance\n",
    "\n",
    "    def calculate_fitness(self):\n",
    "        if self.fitness == 0:\n",
    "            self.fitness = 1 / float(self.calculate_distance())\n",
    "        return self.fitness"
   ]
  },
  {
   "attachments": {},
   "cell_type": "markdown",
   "metadata": {},
   "source": [
    "## GA functions"
   ]
  },
  {
   "cell_type": "code",
   "execution_count": 4,
   "metadata": {},
   "outputs": [],
   "source": [
    "def create_route(cityList):\n",
    "    route = random.sample(cityList, len(cityList))\n",
    "    return route"
   ]
  },
  {
   "cell_type": "code",
   "execution_count": 5,
   "metadata": {},
   "outputs": [],
   "source": [
    "def initial_population(popSize, cityList):\n",
    "    population = []\n",
    "\n",
    "    for i in range(0, popSize):\n",
    "        population.append(create_route(cityList))\n",
    "    return population"
   ]
  },
  {
   "cell_type": "code",
   "execution_count": 6,
   "metadata": {},
   "outputs": [],
   "source": [
    "def rank_routes(population):\n",
    "    fitnessResults = {}\n",
    "    for i in range(0,len(population)):\n",
    "        fitnessResults[i] = Route(population[i]).calculate_fitness()\n",
    "    return sorted(fitnessResults.items(), key = operator.itemgetter(1), reverse = True)"
   ]
  },
  {
   "cell_type": "code",
   "execution_count": 7,
   "metadata": {},
   "outputs": [],
   "source": [
    "def selection(popRanked, eliteSize, population):\n",
    "    selectionResults = []\n",
    "    df = pd.DataFrame(np.array(popRanked), columns=[\"Index\",\"Fitness\"])\n",
    "    df['cum_sum'] = df.Fitness.cumsum()\n",
    "    df['cum_perc'] = 100*df.cum_sum/df.Fitness.sum()\n",
    "\n",
    "    for i in range(0, eliteSize):\n",
    "        selectionResults.append(popRanked[i][0])\n",
    "    for _ in range(0, len(popRanked) - eliteSize):\n",
    "        pick = 100*random.random()\n",
    "        for i in range(0, len(popRanked)):\n",
    "            if pick <= df.iat[i,3]:\n",
    "                selectionResults.append(popRanked[i][0])\n",
    "                break\n",
    "\n",
    "    mating_pool = []\n",
    "    for i in range(0, len(selectionResults)):\n",
    "        index = selectionResults[i]\n",
    "        mating_pool.append(population[index])\n",
    "    return mating_pool"
   ]
  },
  {
   "cell_type": "code",
   "execution_count": 8,
   "metadata": {},
   "outputs": [
    {
     "data": {
      "text/plain": [
       "[4, 2, 5, 1, 6, 8, 7, 3]"
      ]
     },
     "execution_count": 8,
     "metadata": {},
     "output_type": "execute_result"
    }
   ],
   "source": [
    "def PMX_crossover(parent1, parent2):\n",
    "    n = len(parent1)\n",
    "    index_low = random.randint(0, n-2)\n",
    "    index_high = random.randint(index_low+1, n-1)\n",
    "    # index_low = 3\n",
    "    # index_high = 5\n",
    "    offspring = parent1[:index_low] + parent2[index_low: index_high+1] + parent1[index_high+1:]\n",
    "    relations = {}\n",
    "    for i in range(index_low, index_high+1):\n",
    "        relations[parent2[i]] = parent1[i]\n",
    "    for i in range(index_low):\n",
    "        while offspring[i] in relations:\n",
    "            offspring[i] = relations[offspring[i]]\n",
    "    for i in range(index_high+1, n):\n",
    "        while offspring[i] in relations:\n",
    "            offspring[i] = relations[offspring[i]]\n",
    "    return offspring\n",
    "\n",
    "PMX_crossover([1, 2, 3, 4, 5, 6, 7, 8], [3, 7, 5, 1, 6, 8, 2, 4])"
   ]
  },
  {
   "cell_type": "code",
   "execution_count": 9,
   "metadata": {},
   "outputs": [
    {
     "data": {
      "text/plain": [
       "[2, 4, 3, 8, 5, 6, 7, 1]"
      ]
     },
     "execution_count": 9,
     "metadata": {},
     "output_type": "execute_result"
    }
   ],
   "source": [
    "def CX_crossover(parent1: list, parent2: list):\n",
    "    n = len(parent1)\n",
    "    offspring = [-1 for _ in range(n)]\n",
    "    parents = [parent1, parent2]\n",
    "    for i in range(n):\n",
    "        if offspring[i]==-1:\n",
    "            random.shuffle(parents)\n",
    "            offspring[i] = parents[0][i]\n",
    "            j = parents[1].index(parents[0][i])\n",
    "            while j!=i:\n",
    "                offspring[j] = parents[0][j]\n",
    "                j = parents[1].index(parents[0][j])\n",
    "    return offspring\n",
    "\n",
    "CX_crossover([1, 2, 3, 4, 5, 6, 7, 8], [2, 4, 6, 8, 7, 5, 3, 1])"
   ]
  },
  {
   "cell_type": "code",
   "execution_count": 43,
   "metadata": {},
   "outputs": [],
   "source": [
    "def OX1_crossover(parent1, parent2):\n",
    "    n = len(parent1)\n",
    "    index_low = random.randint(0, n-2)\n",
    "    index_high = random.randint(index_low+1, n-1)\n",
    "    offspring = [-1 for _ in range(n)]\n",
    "    offspring[index_low: index_high+1] = parent1[index_low: index_high+1]\n",
    "    j = (index_high + 1)%n\n",
    "    if index_low == 0:\n",
    "        k = index_high\n",
    "    else:\n",
    "        k = -1\n",
    "    for i in range(n):\n",
    "        if parent2[(i+j)%n] not in parent1[index_low: index_high+1]:\n",
    "            if k == index_low - 1:\n",
    "                k = index_high + 1\n",
    "            else:\n",
    "                k += 1\n",
    "            offspring[k] = parent2[(i+j)%n]\n",
    "    return offspring"
   ]
  },
  {
   "cell_type": "code",
   "execution_count": 53,
   "metadata": {},
   "outputs": [
    {
     "name": "stdout",
     "output_type": "stream",
     "text": [
      "7\n"
     ]
    },
    {
     "data": {
      "text/plain": [
       "[]"
      ]
     },
     "execution_count": 53,
     "metadata": {},
     "output_type": "execute_result"
    }
   ],
   "source": [
    "def OX2_crossover(parent1, parent2):\n",
    "    offspring = parent1\n",
    "    n = len(parent1)\n",
    "    num_random = random.randint(1, n)\n",
    "    \n",
    "\n",
    "OX2_crossover([1, 2, 3, 4, 5, 6, 7, 8], [])"
   ]
  },
  {
   "cell_type": "code",
   "execution_count": 58,
   "metadata": {},
   "outputs": [
    {
     "name": "stdout",
     "output_type": "stream",
     "text": [
      "[1, 4, 2, 8, 7, 5, 3, 6]\n"
     ]
    }
   ],
   "source": [
    "import random\n",
    "def POS_crossover(parent1: list, parent2: list):\n",
    "    number_of_positions_to_impose = int(random.random() * len(parent1))\n",
    "    indices = [i for i in range(len(parent1))]\n",
    "    randome_indices = sorted(random.sample(indices, number_of_positions_to_impose))\n",
    "    offspring = []\n",
    "    current_index_of_parent_1 = 0\n",
    "    i = 0\n",
    "    selected_cities = [parent2[y] for y in randome_indices]\n",
    "    while len(offspring) < len(parent1):\n",
    "        if i in randome_indices:\n",
    "            offspring.append(parent2[i])\n",
    "            i += 1\n",
    "        else:\n",
    "            if parent1[current_index_of_parent_1] not in selected_cities:\n",
    "                offspring.append(parent1[current_index_of_parent_1])\n",
    "                i += 1\n",
    "            current_index_of_parent_1 += 1\n",
    "    return offspring\n",
    "\n",
    "print(POS_crossover([1,2,3,4,5,6,7,8],[2,4,6,8,7,5,3,1]))"
   ]
  },
  {
   "cell_type": "code",
   "execution_count": 71,
   "metadata": {},
   "outputs": [
    {
     "name": "stdout",
     "output_type": "stream",
     "text": [
      "[1, 3, 2, 4, 5, 6]\n"
     ]
    }
   ],
   "source": [
    "import random\n",
    "def ER_crossover(parent1: list, parent2: list):\n",
    "    def get_neighbors(parent, position):\n",
    "        prev_city = position - 1 if position - 1 >= 0 else len(parent1) - 1\n",
    "        next_city = position + 1 if position + 1 < len(parent1) else 0\n",
    "        return [parent[prev_city], parent[next_city]]\n",
    "\n",
    "    neighbor_list = {}\n",
    "    for i, city in enumerate(parent1):\n",
    "        index_in_parent2 = parent2.index(city)\n",
    "        neighbor_list[city] = set(get_neighbors(parent1, i)+get_neighbors(parent2, index_in_parent2))\n",
    "\n",
    "    unvisited = set(parent1)\n",
    "    current_city = parent1[0]\n",
    "    offspring = [current_city]\n",
    "    unvisited.remove(current_city)\n",
    "    while len(offspring) < len(parent1):\n",
    "        neighbors = neighbor_list[current_city]\n",
    "        if not len(neighbors):\n",
    "            if not len(unvisited):\n",
    "                return offspring\n",
    "            current_city = unvisited.pop()\n",
    "            offspring.append(current_city)\n",
    "            continue\n",
    "        min_neighbor = None\n",
    "        min_neighbor_len = len(parent1)\n",
    "        for neighbor in neighbors:\n",
    "            neighbor_list[neighbor].remove(current_city)\n",
    "            if len(neighbor_list[neighbor]) < min_neighbor_len:\n",
    "                min_neighbor_len = len(neighbor_list[neighbor])\n",
    "                min_neighbor = neighbor\n",
    "        current_city = min_neighbor\n",
    "        offspring.append(current_city)\n",
    "        unvisited.remove(current_city)\n",
    "    return offspring\n",
    "\n",
    "\n",
    "print(ER_crossover([1,2,3,4,5,6],[2,4,3,1,5,6]))"
   ]
  },
  {
   "cell_type": "code",
   "execution_count": 11,
   "metadata": {},
   "outputs": [],
   "source": [
    "def breed(parent1, parent2):\n",
    "    child = []\n",
    "    childP1 = []\n",
    "    childP2 = []\n",
    "\n",
    "    geneA = int(random.random() * len(parent1))\n",
    "    geneB = int(random.random() * len(parent1))\n",
    "\n",
    "    startGene = min(geneA, geneB)\n",
    "    endGene = max(geneA, geneB)\n",
    "\n",
    "    for i in range(startGene, endGene):\n",
    "        childP1.append(parent1[i])\n",
    "\n",
    "    childP2 = [item for item in parent2 if item not in childP1]\n",
    "\n",
    "    child = childP1 + childP2\n",
    "    return child"
   ]
  },
  {
   "cell_type": "code",
   "execution_count": 44,
   "metadata": {},
   "outputs": [],
   "source": [
    "def breed_population(matingpool, eliteSize):\n",
    "    children = []\n",
    "    length = len(matingpool) - eliteSize\n",
    "    pool = random.sample(matingpool, len(matingpool))\n",
    "\n",
    "    for i in range(0,eliteSize):\n",
    "        children.append(matingpool[i])\n",
    "\n",
    "    for i in range(0, length):\n",
    "        child = OX1_crossover(pool[i], pool[len(matingpool)-i-1])\n",
    "        children.append(child)\n",
    "    return children"
   ]
  },
  {
   "cell_type": "code",
   "execution_count": 91,
   "metadata": {},
   "outputs": [
    {
     "data": {
      "text/plain": [
       "[8, 1, 2, 3, 4, 5, 6, 7]"
      ]
     },
     "execution_count": 91,
     "metadata": {},
     "output_type": "execute_result"
    }
   ],
   "source": [
    "def DM_mutate(individual, mutationRate):\n",
    "    n = len(individual)\n",
    "    if random.random() < mutationRate:\n",
    "        index_low = random.randint(0, n-1)\n",
    "        index_high = random.randint(index_low, n-1)\n",
    "        subroute = individual[index_low:index_high+1]\n",
    "        individual = individual[:index_low] + individual[index_high+1:]\n",
    "        random_position = random.randint(0, len(individual))\n",
    "        if random_position == 0:\n",
    "            individual = subroute + individual\n",
    "        elif random_position == len(individual):\n",
    "            individual = individual + subroute\n",
    "        else:\n",
    "            individual = individual[:random_position] + subroute + individual[random_position:]\n",
    "    return individual\n",
    "\n",
    "DM_mutate([1, 2, 3, 4, 5, 6, 7, 8], 1)\n"
   ]
  },
  {
   "cell_type": "code",
   "execution_count": 95,
   "metadata": {},
   "outputs": [
    {
     "data": {
      "text/plain": [
       "[4, 1, 2, 3, 5, 6, 7, 8]"
      ]
     },
     "execution_count": 95,
     "metadata": {},
     "output_type": "execute_result"
    }
   ],
   "source": [
    "def ISM_mutate(individual: list, mutationRate: float):\n",
    "    n = len(individual)\n",
    "    if random.random() < mutationRate:\n",
    "        index = random.randint(0, n-1)\n",
    "        selected_city = individual[index]\n",
    "        individual = individual[:index] + individual[index+1:]\n",
    "        random_position = random.randint(0, n-1)\n",
    "        individual.insert(random_position, selected_city)\n",
    "    return individual\n",
    "\n",
    "ISM_mutate([1, 2, 3, 4, 5, 6, 7, 8], 1)"
   ]
  },
  {
   "cell_type": "code",
   "execution_count": 101,
   "metadata": {},
   "outputs": [
    {
     "data": {
      "text/plain": [
       "[1, 2, 3, 8, 7, 6, 5, 4]"
      ]
     },
     "execution_count": 101,
     "metadata": {},
     "output_type": "execute_result"
    }
   ],
   "source": [
    "def IVM_mutate(individual: list, mutationRate: float):\n",
    "    n = len(individual)\n",
    "    if random.random() < mutationRate:\n",
    "        index_low = random.randint(0, n-1)\n",
    "        index_high = random.randint(index_low, n-1)\n",
    "        subroute = individual[index_low:index_high+1]\n",
    "        subroute.reverse()\n",
    "        individual = individual[:index_low] + individual[index_high+1:]\n",
    "        random_position = random.randint(0, len(individual))\n",
    "        if random_position == 0:\n",
    "            individual = subroute + individual\n",
    "        elif random_position == len(individual):\n",
    "            individual = individual + subroute\n",
    "        else:\n",
    "            individual = individual[:random_position] + subroute + individual[random_position:]\n",
    "    return individual\n",
    "\n",
    "IVM_mutate([1, 2, 3, 4, 5, 6, 7, 8], 1)"
   ]
  },
  {
   "cell_type": "code",
   "execution_count": 13,
   "metadata": {},
   "outputs": [],
   "source": [
    "def mutate(individual, mutationRate):\n",
    "    for swapped in range(len(individual)):\n",
    "        if(random.random() < mutationRate):\n",
    "            swapWith = int(random.random() * len(individual))\n",
    "\n",
    "            city1 = individual[swapped]\n",
    "            city2 = individual[swapWith]\n",
    "\n",
    "            individual[swapped] = city2\n",
    "            individual[swapWith] = city1\n",
    "    return individual"
   ]
  },
  {
   "cell_type": "code",
   "execution_count": 14,
   "metadata": {},
   "outputs": [],
   "source": [
    "def mutate_population(population, mutationRate):\n",
    "    mutatedPop = []\n",
    "\n",
    "    for ind in range(0, len(population)):\n",
    "        mutatedInd = mutate(population[ind], mutationRate)\n",
    "        mutatedPop.append(mutatedInd)\n",
    "    return mutatedPop"
   ]
  },
  {
   "cell_type": "code",
   "execution_count": 15,
   "metadata": {},
   "outputs": [],
   "source": [
    "def next_generation(currentGen, eliteSize, mutationRate):\n",
    "    popRanked = rank_routes(currentGen)\n",
    "    mating_pool = selection(popRanked, eliteSize, currentGen)\n",
    "    children = breed_population(mating_pool, eliteSize)\n",
    "    nextGeneration = mutate_population(children, mutationRate)\n",
    "    return nextGeneration"
   ]
  },
  {
   "attachments": {},
   "cell_type": "markdown",
   "metadata": {},
   "source": [
    "## Genetic algorithm main functions"
   ]
  },
  {
   "cell_type": "code",
   "execution_count": 16,
   "metadata": {},
   "outputs": [],
   "source": [
    "def genetic_algorithm(population, population_size, eliteSize, mutationRate, generations):\n",
    "    pop = initial_population(population_size, population)\n",
    "    print(\"Initial distance: \" + str(1 / rank_routes(pop)[0][1]))\n",
    "\n",
    "    for i in range(0, generations):\n",
    "        pop = next_generation(pop, eliteSize, mutationRate)\n",
    "\n",
    "    print(\"Final distance: \" + str(1 / rank_routes(pop)[0][1]))\n",
    "    bestRouteIndex = rank_routes(pop)[0][0]\n",
    "    bestRoute = pop[bestRouteIndex]\n",
    "    return bestRoute"
   ]
  },
  {
   "cell_type": "code",
   "execution_count": 17,
   "metadata": {},
   "outputs": [],
   "source": [
    "def genetic_algorithm_plot(population, popSize, eliteSize, mutationRate, generations):\n",
    "    pop = initial_population(popSize, population)\n",
    "    progress = []\n",
    "    progress.append(1 / rank_routes(pop)[0][1])\n",
    "\n",
    "    for i in range(0, generations):\n",
    "        pop = next_generation(pop, eliteSize, mutationRate)\n",
    "        progress.append(1 / rank_routes(pop)[0][1])\n",
    "\n",
    "    plt.plot(progress)\n",
    "    plt.ylabel('Distance')\n",
    "    plt.xlabel('Generation')\n",
    "    plt.show()"
   ]
  },
  {
   "attachments": {},
   "cell_type": "markdown",
   "metadata": {},
   "source": [
    "## Read dataset or generate random data"
   ]
  },
  {
   "cell_type": "code",
   "execution_count": 18,
   "metadata": {},
   "outputs": [],
   "source": [
    "cityList = []\n",
    "with open('dataset.txt', 'r') as f:\n",
    "    for line in f:\n",
    "        id, x, y = line[:-1].split(' ')\n",
    "        cityList.append(City(float(x), float(y)))"
   ]
  },
  {
   "cell_type": "code",
   "execution_count": 16,
   "metadata": {},
   "outputs": [],
   "source": [
    "cityList = []\n",
    "\n",
    "for position in range(0,25):\n",
    "    cityList.append(City(x=int(random.random() * 200), y=int(random.random() * 200)))"
   ]
  },
  {
   "attachments": {},
   "cell_type": "markdown",
   "metadata": {},
   "source": [
    "## Run alogrithm"
   ]
  },
  {
   "cell_type": "code",
   "execution_count": 45,
   "metadata": {},
   "outputs": [
    {
     "name": "stdout",
     "output_type": "stream",
     "text": [
      "Initial distance: 23611.234313007113\n",
      "Final distance: 12819.408610362363\n"
     ]
    },
    {
     "data": {
      "text/plain": [
       "[(11133.3333,42885.8333),\n",
       " (11511.3889,42106.3889),\n",
       " (11438.3333,42057.2222),\n",
       " (11715.8333,41836.1111),\n",
       " (11003.6111,42102.5),\n",
       " (11108.6111,42373.8889),\n",
       " (11751.1111,42814.4444),\n",
       " (12386.6667,43334.7222),\n",
       " (12286.9444,43355.5556),\n",
       " (12363.3333,43189.1667),\n",
       " (12355.8333,43156.3889),\n",
       " (12645.0,42973.3333),\n",
       " (12300.0,42433.3333),\n",
       " (12149.4444,42477.5),\n",
       " (12058.3333,42195.5556),\n",
       " (11846.9444,42660.5556),\n",
       " (11822.7778,42673.6111),\n",
       " (11973.0556,43026.1111),\n",
       " (12421.6667,42895.5556),\n",
       " (12372.7778,42711.3889),\n",
       " (11461.1111,43252.7778),\n",
       " (11569.4444,43136.6667),\n",
       " (11785.2778,42884.4444),\n",
       " (11485.5556,43187.2222),\n",
       " (11310.2778,42929.4444),\n",
       " (11297.5,42853.3333),\n",
       " (11690.5556,42686.6667),\n",
       " (11770.2778,42651.9444),\n",
       " (11522.2222,42841.9444),\n",
       " (11423.8889,43000.2778),\n",
       " (11963.0556,43290.5556),\n",
       " (11595.0,43148.0556),\n",
       " (11600.0,43150.0),\n",
       " (11583.3333,43150.0),\n",
       " (11416.6667,42983.3333),\n",
       " (11503.0556,42855.2778),\n",
       " (11183.3333,42933.3333),\n",
       " (11155.8333,42712.5)]"
      ]
     },
     "execution_count": 45,
     "metadata": {},
     "output_type": "execute_result"
    }
   ],
   "source": [
    "genetic_algorithm(population=cityList, population_size=100, eliteSize=20, mutationRate=0.01, generations=200)"
   ]
  },
  {
   "cell_type": "code",
   "execution_count": 23,
   "metadata": {},
   "outputs": [
    {
     "data": {
      "image/png": "[encoded data removed]",
      "text/plain": [
       "<Figure size 640x480 with 1 Axes>"
      ]
     },
     "metadata": {},
     "output_type": "display_data"
    }
   ],
   "source": [
    "genetic_algorithm_plot(population=cityList, popSize=100, eliteSize=20, mutationRate=0.01, generations=200)"
   ]
  },
  {
   "cell_type": "code",
   "execution_count": null,
   "metadata": {},
   "outputs": [],
   "source": []
  },
  {
   "cell_type": "code",
   "execution_count": null,
   "metadata": {},
   "outputs": [],
   "source": []
  }
 ],
 "metadata": {
  "kernelspec": {
   "display_name": "Python 3",
   "language": "python",
   "name": "python3"
  },
  "language_info": {
   "codemirror_mode": {
    "name": "ipython",
    "version": 3
   },
   "file_extension": ".py",
   "mimetype": "text/x-python",
   "name": "python",
   "nbconvert_exporter": "python",
   "pygments_lexer": "ipython3",
   "version": "3.10.2"
  },
  "orig_nbformat": 4
 },
 "nbformat": 4,
 "nbformat_minor": 2
}

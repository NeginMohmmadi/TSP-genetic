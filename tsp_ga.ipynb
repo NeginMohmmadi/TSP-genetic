{
  "cells": [
    {
      "cell_type": "markdown",
      "metadata": {
        "id": "tA4KlNA8H9Lh"
      },
      "source": [
        "# Solve TSP problem using Genetic Algorithm"
      ]
    },
    {
      "cell_type": "markdown",
      "metadata": {
        "id": "p8Lw13-SnADh"
      },
      "source": [
        "Tanaz Ghahremani, Hasti Khajeh, Negin Mohammadi, Sina Rostami"
      ]
    },
    {
      "cell_type": "markdown",
      "metadata": {
        "id": "yRa1uXnkH9Lk"
      },
      "source": [
        "## Import libraries"
      ]
    },
    {
      "cell_type": "code",
      "execution_count": null,
      "metadata": {
        "id": "kcCu7jzhH9Ll"
      },
      "outputs": [],
      "source": [
        "import numpy as np\n",
        "import random\n",
        "import operator\n",
        "import pandas as pd\n",
        "import matplotlib.pyplot as plt\n",
        "import psutil\n",
        "import json\n",
        "import datetime\n",
        "import tracemalloc"
      ]
    },
    {
      "cell_type": "markdown",
      "metadata": {
        "id": "EQsHflNJH9Lm"
      },
      "source": [
        "## Model Gen and Chromosome"
      ]
    },
    {
      "cell_type": "code",
      "execution_count": null,
      "metadata": {
        "id": "tTtnmo4vH9Lm"
      },
      "outputs": [],
      "source": [
        "class City: # Gen in GA\n",
        "    def __init__(self, x, y):\n",
        "        self.x = x\n",
        "        self.y = y\n",
        "\n",
        "    def distance(self, city):\n",
        "        xDis = abs(self.x - city.x)\n",
        "        yDis = abs(self.y - city.y)\n",
        "        distance = np.sqrt((xDis ** 2) + (yDis ** 2))\n",
        "        return distance\n",
        "\n",
        "    def __repr__(self):\n",
        "        return \"(\" + str(self.x) + \",\" + str(self.y) + \")\""
      ]
    },
    {
      "cell_type": "code",
      "execution_count": null,
      "metadata": {
        "id": "FZDVN9c1H9Ln"
      },
      "outputs": [],
      "source": [
        "class Route: # Chromosome in GA\n",
        "    def __init__(self, cities : list):\n",
        "        self.cities = cities\n",
        "        self.fitness = 0\n",
        "        self.distance = 0\n",
        "\n",
        "    def calculate_distance(self):\n",
        "        if self.distance == 0:\n",
        "            pathDistance = 0\n",
        "            for i in range(0, len(self.cities)):\n",
        "                fromCity = self.cities[i]\n",
        "                toCity = None\n",
        "                if i + 1 < len(self.cities):\n",
        "                    toCity = self.cities[i + 1]\n",
        "                else:\n",
        "                    toCity = self.cities[0]\n",
        "                pathDistance += fromCity.distance(toCity)\n",
        "            self.distance = pathDistance\n",
        "        return self.distance\n",
        "\n",
        "    def calculate_fitness(self):\n",
        "        if self.fitness == 0:\n",
        "            self.fitness = 1 / float(self.calculate_distance())\n",
        "        return self.fitness"
      ]
    },
    {
      "cell_type": "markdown",
      "metadata": {
        "id": "Zc0l8byTH9Lo"
      },
      "source": [
        "## GA functions"
      ]
    },
    {
      "cell_type": "code",
      "execution_count": null,
      "metadata": {
        "id": "ECX2hxl7H9Lo"
      },
      "outputs": [],
      "source": [
        "def create_route(cityList):\n",
        "    route = random.sample(cityList, len(cityList))\n",
        "    return route"
      ]
    },
    {
      "cell_type": "code",
      "execution_count": null,
      "metadata": {
        "id": "L8SQ-0xbH9Lp"
      },
      "outputs": [],
      "source": [
        "def initial_population(population_size, cityList):\n",
        "    population = []\n",
        "\n",
        "    for i in range(0, population_size):\n",
        "        population.append(create_route(cityList))\n",
        "    return population"
      ]
    },
    {
      "cell_type": "code",
      "execution_count": null,
      "metadata": {
        "id": "0vQYnNgDH9Lp"
      },
      "outputs": [],
      "source": [
        "def rank_routes(population):\n",
        "    fitnessResults = {}\n",
        "    for i in range(0,len(population)):\n",
        "        fitnessResults[i] = Route(population[i]).calculate_fitness()\n",
        "    return sorted(fitnessResults.items(), key = operator.itemgetter(1), reverse = True)"
      ]
    },
    {
      "cell_type": "code",
      "execution_count": null,
      "metadata": {
        "id": "EUHRVMMEH9Lq"
      },
      "outputs": [],
      "source": [
        "def selection(ranked_population, elite_size, population):\n",
        "    selectionResults = []\n",
        "    df = pd.DataFrame(np.array(ranked_population), columns=[\"Index\",\"Fitness\"])\n",
        "    df['cum_sum'] = df.Fitness.cumsum()\n",
        "    df['cum_perc'] = 100*df.cum_sum/df.Fitness.sum()\n",
        "\n",
        "    for i in range(0, elite_size):\n",
        "        selectionResults.append(ranked_population[i][0])\n",
        "    for _ in range(0, len(ranked_population) - elite_size):\n",
        "        pick = 100*random.random()\n",
        "        for i in range(0, len(ranked_population)):\n",
        "            if pick <= df.iat[i,3]:\n",
        "                selectionResults.append(ranked_population[i][0])\n",
        "                break\n",
        "\n",
        "    mating_pool = []\n",
        "    for i in range(0, len(selectionResults)):\n",
        "        index = selectionResults[i]\n",
        "        mating_pool.append(population[index])\n",
        "    return mating_pool"
      ]
    },
    {
      "cell_type": "code",
      "execution_count": null,
      "metadata": {
        "id": "F79Tr8rdH9Lq"
      },
      "outputs": [],
      "source": [
        "def OX1_crossover(parent1, parent2):\n",
        "    n = len(parent1)\n",
        "    index_low = random.randint(0, n-2)\n",
        "    index_high = random.randint(index_low+1, n-1)\n",
        "    offspring = [-1 for _ in range(n)]\n",
        "    offspring[index_low: index_high+1] = parent1[index_low: index_high+1]\n",
        "    j = (index_high + 1)%n\n",
        "    if index_low == 0:\n",
        "        k = index_high\n",
        "    else:\n",
        "        k = -1\n",
        "    for i in range(n):\n",
        "        if parent2[(i+j)%n] not in parent1[index_low: index_high+1]:\n",
        "            if k == index_low - 1:\n",
        "                k = index_high + 1\n",
        "            else:\n",
        "                k += 1\n",
        "            offspring[k] = parent2[(i+j)%n]\n",
        "    return offspring"
      ]
    },
    {
      "cell_type": "code",
      "execution_count": null,
      "metadata": {
        "id": "sF877YnsH9Lq"
      },
      "outputs": [],
      "source": [
        "def POS_crossover(parent1: list, parent2: list):\n",
        "    number_of_positions_to_impose = int(random.random() * len(parent1))\n",
        "    indices = [i for i in range(len(parent1))]\n",
        "    randome_indices = sorted(random.sample(indices, number_of_positions_to_impose))\n",
        "    offspring = []\n",
        "    current_index_of_parent_1 = 0\n",
        "    i = 0\n",
        "    selected_cities = [parent2[y] for y in randome_indices]\n",
        "    while len(offspring) < len(parent1):\n",
        "        if i in randome_indices:\n",
        "            offspring.append(parent2[i])\n",
        "            i += 1\n",
        "        else:\n",
        "            if parent1[current_index_of_parent_1] not in selected_cities:\n",
        "                offspring.append(parent1[current_index_of_parent_1])\n",
        "                i += 1\n",
        "            current_index_of_parent_1 += 1\n",
        "    return offspring"
      ]
    },
    {
      "cell_type": "code",
      "execution_count": null,
      "metadata": {
        "id": "3oEn9tjzH9Lq"
      },
      "outputs": [],
      "source": [
        "def ER_crossover(parent1: list, parent2: list):\n",
        "    def get_neighbors(parent, position):\n",
        "        prev_city = position - 1 if position - 1 >= 0 else len(parent1) - 1\n",
        "        next_city = position + 1 if position + 1 < len(parent1) else 0\n",
        "        return [parent[prev_city], parent[next_city]]\n",
        "\n",
        "    neighbor_list = {}\n",
        "    for i, city in enumerate(parent1):\n",
        "        index_in_parent2 = parent2.index(city)\n",
        "        neighbor_list[city] = set(get_neighbors(parent1, i)+get_neighbors(parent2, index_in_parent2))\n",
        "\n",
        "    unvisited = set(parent1)\n",
        "    current_city = parent1[0]\n",
        "    offspring = [current_city]\n",
        "    unvisited.remove(current_city)\n",
        "    while len(offspring) < len(parent1):\n",
        "        neighbors = neighbor_list[current_city]\n",
        "        if not len(neighbors):\n",
        "            if not len(unvisited):\n",
        "                return offspring\n",
        "            current_city = unvisited.pop()\n",
        "            offspring.append(current_city)\n",
        "            continue\n",
        "        min_neighbor = None\n",
        "        min_neighbor_len = len(parent1)\n",
        "        for neighbor in neighbors:\n",
        "            neighbor_list[neighbor].remove(current_city)\n",
        "            if len(neighbor_list[neighbor]) < min_neighbor_len:\n",
        "                min_neighbor_len = len(neighbor_list[neighbor])\n",
        "                min_neighbor = neighbor\n",
        "        current_city = min_neighbor\n",
        "        offspring.append(current_city)\n",
        "        unvisited.remove(current_city)\n",
        "    return offspring"
      ]
    },
    {
      "cell_type": "code",
      "execution_count": null,
      "metadata": {
        "colab": {
          "base_uri": "https://localhost:8080/"
        },
        "id": "AImhJB9csnhf",
        "outputId": "336ec230-37fb-4d6b-e68e-ee8e2336e7bc"
      },
      "outputs": [
        {
          "output_type": "execute_result",
          "data": {
            "text/plain": [
              "[2, 3, 1, 4, 5, 6, 7, 8]"
            ]
          },
          "metadata": {},
          "execution_count": 11
        }
      ],
      "source": [
        "import random\n",
        "def OX2_crossover(parent1: list, parent2: list):\n",
        "    n = len(parent1)\n",
        "    index_low = random.randint(0, n-2)\n",
        "    index_high = random.randint(index_low+1, n-1)\n",
        "    selected = parent1[index_low:index_high+1]\n",
        "    new_order = []\n",
        "    for i in selected:\n",
        "        new_order.append((i, parent2.index(i)))\n",
        "    new_order = sorted(new_order, key=lambda x: x[1])\n",
        "    offspring = parent1\n",
        "    subroute = []\n",
        "    for i in range(index_high-index_low+1):\n",
        "        subroute.append(new_order[i][0])\n",
        "    offspring[index_low: index_high+1] = subroute\n",
        "    return offspring\n",
        "\n",
        "OX2_crossover([1, 2, 3, 4, 5, 6, 7, 8], [2, 4, 6, 8, 7, 5, 3, 1])"
      ]
    },
    {
      "cell_type": "code",
      "execution_count": null,
      "metadata": {
        "colab": {
          "base_uri": "https://localhost:8080/"
        },
        "id": "Rvh1yWkP0U9w",
        "outputId": "43e837e6-2e25-4d0a-dc34-8fcc3489ad09"
      },
      "outputs": [
        {
          "output_type": "execute_result",
          "data": {
            "text/plain": [
              "[1, 7, 3, 4, 5, 8, 2, 6]"
            ]
          },
          "metadata": {},
          "execution_count": 12
        }
      ],
      "source": [
        "def PMX_crossover(parent1, parent2):\n",
        "    n = len(parent1)\n",
        "    index_low = random.randint(0, n-2)\n",
        "    index_high = random.randint(index_low+1, n-1)\n",
        "    # index_low = 3\n",
        "    # index_high = 5\n",
        "    offspring = parent1[:index_low] + parent2[index_low: index_high+1] + parent1[index_high+1:]\n",
        "    relations = {}\n",
        "    for i in range(index_low, index_high+1):\n",
        "        relations[parent2[i]] = parent1[i]\n",
        "    for i in range(index_low):\n",
        "        while offspring[i] in relations:\n",
        "            offspring[i] = relations[offspring[i]]\n",
        "    for i in range(index_high+1, n):\n",
        "        while offspring[i] in relations:\n",
        "            offspring[i] = relations[offspring[i]]\n",
        "    return offspring\n",
        "\n",
        "PMX_crossover([1, 2, 3, 4, 5, 6, 7, 8], [3, 7, 5, 1, 6, 8, 2, 4])"
      ]
    },
    {
      "cell_type": "code",
      "execution_count": null,
      "metadata": {
        "colab": {
          "base_uri": "https://localhost:8080/"
        },
        "id": "EliHatcK0lRk",
        "outputId": "347bc024-af8b-4315-931d-5f3dc8ccd62e"
      },
      "outputs": [
        {
          "output_type": "execute_result",
          "data": {
            "text/plain": [
              "[2, 4, 6, 8, 7, 5, 3, 1]"
            ]
          },
          "metadata": {},
          "execution_count": 13
        }
      ],
      "source": [
        "def CX_crossover(parent1: list, parent2: list):\n",
        "    n = len(parent1)\n",
        "    offspring = [-1 for _ in range(n)]\n",
        "    parents = [parent1, parent2]\n",
        "    for i in range(n):\n",
        "        if offspring[i]==-1:\n",
        "            random.shuffle(parents)\n",
        "            offspring[i] = parents[0][i]\n",
        "            j = parents[1].index(parents[0][i])\n",
        "            while j!=i:\n",
        "                offspring[j] = parents[0][j]\n",
        "                j = parents[1].index(parents[0][j])\n",
        "    return offspring\n",
        "\n",
        "CX_crossover([1, 2, 3, 4, 5, 6, 7, 8], [2, 4, 6, 8, 7, 5, 3, 1])"
      ]
    },
    {
      "cell_type": "code",
      "execution_count": null,
      "metadata": {
        "colab": {
          "base_uri": "https://localhost:8080/"
        },
        "id": "yp2b_SIQ5DyM",
        "outputId": "b9867c6c-ed9d-4e85-9c2c-128691302cef"
      },
      "outputs": [
        {
          "output_type": "execute_result",
          "data": {
            "text/plain": [
              "[1, 3, 2, 7, 5, 4, 6, 8]"
            ]
          },
          "metadata": {},
          "execution_count": 14
        }
      ],
      "source": [
        "def AP_crossover(parent1: list, parent2: list):\n",
        "    n = len(parent1)\n",
        "    mixed = []\n",
        "    for i in range(n):\n",
        "        mixed.append(parent1[i])\n",
        "        mixed.append(parent2[i])\n",
        "    offspring = []\n",
        "    for item in mixed:\n",
        "        if item not in offspring:\n",
        "            offspring.append(item)\n",
        "    return offspring\n",
        "AP_crossover([1, 2, 3, 4, 5, 6, 7, 8], [3, 7, 5, 1, 6, 8, 2, 4])"
      ]
    },
    {
      "cell_type": "code",
      "execution_count": null,
      "metadata": {
        "id": "5Ap0j7unH9Lr"
      },
      "outputs": [],
      "source": [
        "def breed_population(mating_pool, elite_size, crossover_function):\n",
        "    children = []\n",
        "    length = len(mating_pool) - elite_size\n",
        "    pool = random.sample(mating_pool, len(mating_pool))\n",
        "\n",
        "    for i in range(0,elite_size):\n",
        "        children.append(mating_pool[i])\n",
        "\n",
        "    for i in range(0, length):\n",
        "        child = crossover_function(pool[i], pool[len(mating_pool)-i-1])\n",
        "        children.append(child)\n",
        "    return children"
      ]
    },
    {
      "cell_type": "code",
      "execution_count": null,
      "metadata": {
        "id": "pxLohJpVH9Lr"
      },
      "outputs": [],
      "source": [
        "def DM_mutate(individual: list):\n",
        "    n = len(individual)\n",
        "    index_low = random.randint(0, n-1)\n",
        "    index_high = random.randint(index_low, n-1)\n",
        "    subroute = individual[index_low:index_high+1]\n",
        "    individual = individual[:index_low] + individual[index_high+1:]\n",
        "    random_position = random.randint(0, len(individual))\n",
        "    if random_position == 0:\n",
        "        individual = subroute + individual\n",
        "    elif random_position == len(individual):\n",
        "        individual = individual + subroute\n",
        "    else:\n",
        "        individual = individual[:random_position] + subroute + individual[random_position:]\n",
        "    return individual\n"
      ]
    },
    {
      "cell_type": "code",
      "execution_count": null,
      "metadata": {
        "id": "FTeMCu1TH9Lr"
      },
      "outputs": [],
      "source": [
        "def ISM_mutate(individual: list):\n",
        "    n = len(individual)\n",
        "    index = random.randint(0, n-1)\n",
        "    selected_city = individual[index]\n",
        "    individual = individual[:index] + individual[index+1:]\n",
        "    random_position = random.randint(0, n-1)\n",
        "    individual.insert(random_position, selected_city)\n",
        "    return individual"
      ]
    },
    {
      "cell_type": "code",
      "execution_count": null,
      "metadata": {
        "id": "B98u-NfhH9Lr"
      },
      "outputs": [],
      "source": [
        "def IVM_mutate(individual: list):\n",
        "    n = len(individual)\n",
        "    index_low = random.randint(0, n-1)\n",
        "    index_high = random.randint(index_low, n-1)\n",
        "    subroute = individual[index_low:index_high+1]\n",
        "    subroute.reverse()\n",
        "    individual = individual[:index_low] + individual[index_high+1:]\n",
        "    random_position = random.randint(0, len(individual))\n",
        "    if random_position == 0:\n",
        "        individual = subroute + individual\n",
        "    elif random_position == len(individual):\n",
        "        individual = individual + subroute\n",
        "    else:\n",
        "        individual = individual[:random_position] + subroute + individual[random_position:]\n",
        "    return individual"
      ]
    },
    {
      "cell_type": "code",
      "execution_count": null,
      "metadata": {
        "colab": {
          "base_uri": "https://localhost:8080/"
        },
        "id": "jeiBvEzv7Yru",
        "outputId": "7b32ed6d-c464-4626-d089-651dc19980c4"
      },
      "outputs": [
        {
          "output_type": "execute_result",
          "data": {
            "text/plain": [
              "[1, 2, 5, 4, 3, 6, 7, 8]"
            ]
          },
          "metadata": {},
          "execution_count": 19
        }
      ],
      "source": [
        "def EM_mutate(individual: list):\n",
        "    n = len(individual)\n",
        "    ind1, ind2 = random.sample([i for i in range(n)], 2)\n",
        "    individual[ind1], individual[ind2] = individual[ind2], individual[ind1]\n",
        "    return individual\n",
        "EM_mutate([1, 2, 3, 4, 5, 6, 7, 8])\n"
      ]
    },
    {
      "cell_type": "code",
      "execution_count": null,
      "metadata": {
        "colab": {
          "base_uri": "https://localhost:8080/"
        },
        "id": "xgxQJb159kYc",
        "outputId": "0b299d97-3360-43c1-979b-59aa833f0eec"
      },
      "outputs": [
        {
          "output_type": "execute_result",
          "data": {
            "text/plain": [
              "[1, 6, 5, 4, 3, 2, 7, 8]"
            ]
          },
          "metadata": {},
          "execution_count": 20
        }
      ],
      "source": [
        "def SIM_mutate(individual: list):\n",
        "    n = len(individual)\n",
        "    index_low = random.randint(0, n-1)\n",
        "    index_high = random.randint(index_low, n-1)\n",
        "    subroute = individual[index_low: index_high+1]\n",
        "    subroute.reverse()\n",
        "    individual = individual[:index_low] + subroute + individual[index_high+1:]\n",
        "    return individual\n",
        "SIM_mutate([1, 2, 3, 4, 5, 6, 7, 8])"
      ]
    },
    {
      "cell_type": "code",
      "execution_count": null,
      "metadata": {
        "colab": {
          "base_uri": "https://localhost:8080/"
        },
        "id": "RIr5Zja1AqsP",
        "outputId": "021c1bdc-aa16-4569-8578-d1e0179bdafe"
      },
      "outputs": [
        {
          "output_type": "execute_result",
          "data": {
            "text/plain": [
              "[1, 2, 3, 4, 5, 6, 7, 8]"
            ]
          },
          "metadata": {},
          "execution_count": 21
        }
      ],
      "source": [
        "def SM_mutate(individual: list):\n",
        "    n = len(individual)\n",
        "    index_low = random.randint(0, n-1)\n",
        "    index_high = random.randint(index_low, n-1)\n",
        "\n",
        "    subroute = individual[index_low: index_high+1]\n",
        "    random.shuffle(subroute)\n",
        "    individual = individual[:index_low] + subroute + individual[index_high+1:]\n",
        "    return individual\n",
        "SM_mutate([1, 2, 3, 4, 5, 6, 7, 8])"
      ]
    },
    {
      "cell_type": "code",
      "execution_count": null,
      "metadata": {
        "id": "7kYIsJpkH9Lr"
      },
      "outputs": [],
      "source": [
        "def mutate_population(population, mutation_rate, mutator_function):\n",
        "    mutated_population = []\n",
        "\n",
        "    for individual in population:\n",
        "        mutated_individual = mutator_function(individual) if random.random() < mutation_rate else individual\n",
        "        mutated_population.append(mutated_individual)\n",
        "    return mutated_population"
      ]
    },
    {
      "cell_type": "code",
      "execution_count": null,
      "metadata": {
        "id": "Cw4c0e2wH9Lr"
      },
      "outputs": [],
      "source": [
        "def next_generation(current_generation, elite_size, mutation_rate, mutator_function, crossover_function):\n",
        "    ranked_population = rank_routes(current_generation)\n",
        "    mating_pool = selection(ranked_population, elite_size, current_generation)\n",
        "    children = breed_population(mating_pool, elite_size, crossover_function)\n",
        "    next_generation = mutate_population(children, mutation_rate, mutator_function)\n",
        "    return next_generation"
      ]
    },
    {
      "cell_type": "markdown",
      "metadata": {
        "id": "ryWK4mSsH9Ls"
      },
      "source": [
        "## Genetic algorithm main functions"
      ]
    },
    {
      "cell_type": "code",
      "execution_count": null,
      "metadata": {
        "id": "egQX7yLeH9Ls"
      },
      "outputs": [],
      "source": [
        "def genetic_algorithm(population, population_size, elite_size, mutation_rate, generations, mutator_function, crossover_function):\n",
        "    current_population = initial_population(population_size, population)\n",
        "    # print(\"Initial distance: \" + str(1 / rank_routes(current_population)[0][1]))\n",
        "\n",
        "    for i in range(0, generations):\n",
        "        current_population = next_generation(current_population, elite_size, mutation_rate, mutator_function, crossover_function)\n",
        "\n",
        "    # print(\"Final distance: \" + str(1 / rank_routes(current_population)[0][1]))\n",
        "    return 1 / rank_routes(current_population)[0][1]\n",
        "    # bestRouteIndex = rank_routes(current_population)[0][0]\n",
        "    # bestRoute = current_population[bestRouteIndex]\n",
        "    # return bestRoute"
      ]
    },
    {
      "cell_type": "code",
      "execution_count": null,
      "metadata": {
        "id": "XPpu1_rDH9Ls"
      },
      "outputs": [],
      "source": [
        "def genetic_algorithm_plot(population, population_size, elite_size, mutation_rate, generations, mutator_function, crossover_function):\n",
        "    pop = initial_population(population_size, population)\n",
        "    progress = []\n",
        "    progress.append(1 / rank_routes(pop)[0][1])\n",
        "\n",
        "    for i in range(0, generations):\n",
        "        pop = next_generation(pop, elite_size, mutation_rate, mutator_function, crossover_function)\n",
        "        progress.append(1 / rank_routes(pop)[0][1])\n",
        "\n",
        "    plt.plot(progress)\n",
        "    plt.ylabel('Distance')\n",
        "    plt.xlabel('Generation')\n",
        "    plt.show()"
      ]
    },
    {
      "cell_type": "markdown",
      "metadata": {
        "id": "E4oFpdKSH9Ls"
      },
      "source": [
        "## Read dataset or generate random data"
      ]
    },
    {
      "cell_type": "code",
      "execution_count": null,
      "metadata": {
        "id": "ujn2qeGlH9Ls"
      },
      "outputs": [],
      "source": [
        "cityList = []\n",
        "with open('rl5915.tsp', 'r') as f:\n",
        "    for line in f:\n",
        "        id, x, y = line[:-1].split(' ')\n",
        "        cityList.append(City(float(x), float(y)))"
      ]
    },
    {
      "cell_type": "markdown",
      "metadata": {
        "id": "4p3viWf1H9Ls"
      },
      "source": [
        "## Run alogrithm"
      ]
    },
    {
      "cell_type": "code",
      "execution_count": null,
      "metadata": {
        "colab": {
          "base_uri": "https://localhost:8080/"
        },
        "id": "nC5N-XFMH9Ls",
        "outputId": "50c9054a-a54a-4fb6-f751-b8456bc1c239"
      },
      "outputs": [
        {
          "output_type": "execute_result",
          "data": {
            "text/plain": [
              "37980555.06359232"
            ]
          },
          "metadata": {},
          "execution_count": 32
        }
      ],
      "source": [
        "# genetic_algorithm(population=cityList, population_size=100, elite_size=20, mutation_rate=0.17, generations=200, crossover_function=OX1_crossover, mutator_function=DM_mutate)"
      ]
    },
    {
      "cell_type": "code",
      "execution_count": null,
      "metadata": {
        "colab": {
          "base_uri": "https://localhost:8080/",
          "height": 449
        },
        "id": "mhK2KTOTH9Lt",
        "outputId": "3f222b7a-43b4-47f0-f0e9-1c20769eea17"
      },
      "outputs": [
        {
          "output_type": "display_data",
          "data": {
            "text/plain": [
              "<Figure size 640x480 with 1 Axes>"
            ],
            "image/png": "[encoded data removed]"
          },
          "metadata": {}
        }
      ],
      "source": [
        "# genetic_algorithm_plot(population=cityList, population_size=100, elite_size=20, mutation_rate=0.01, generations=200, crossover_function=OX1_crossover, mutator_function=DM_mutate)"
      ]
    },
    {
      "cell_type": "markdown",
      "metadata": {
        "id": "RBvAZyHFH9Lt"
      },
      "source": [
        "## Run with different operators"
      ]
    },
    {
      "cell_type": "code",
      "execution_count": null,
      "metadata": {
        "colab": {
          "base_uri": "https://localhost:8080/",
          "height": 477
        },
        "id": "ZC6qBNrAH9Lt",
        "outputId": "cd793845-52f0-444b-bffc-6f911f8a35bf"
      },
      "outputs": [
        {
          "output_type": "stream",
          "name": "stdout",
          "text": [
            "calculating DM OX1...\n",
            "(37698871.10388328, datetime.timedelta(seconds=3776, microseconds=877103), 12285911)\n",
            "calculating DM OX2...\n",
            "(41458869.704358205, datetime.timedelta(seconds=2533, microseconds=211632), 5427724)\n",
            "calculating DM POS...\n"
          ]
        },
        {
          "output_type": "error",
          "ename": "KeyboardInterrupt",
          "evalue": "",
          "traceback": [
            "\u001b[0;31m---------------------------------------------------------------------------\u001b[0m",
            "\u001b[0;31mKeyboardInterrupt\u001b[0m                         Traceback (most recent call last)",
            "\u001b[0;32m<ipython-input-33-566942f734bf>\u001b[0m in \u001b[0;36m<cell line: 23>\u001b[0;34m()\u001b[0m\n\u001b[1;32m     26\u001b[0m         \u001b[0mtracemalloc\u001b[0m\u001b[0;34m.\u001b[0m\u001b[0mstart\u001b[0m\u001b[0;34m(\u001b[0m\u001b[0;34m)\u001b[0m\u001b[0;34m\u001b[0m\u001b[0;34m\u001b[0m\u001b[0m\n\u001b[1;32m     27\u001b[0m         \u001b[0mstart_time\u001b[0m \u001b[0;34m=\u001b[0m \u001b[0mdatetime\u001b[0m\u001b[0;34m.\u001b[0m\u001b[0mdatetime\u001b[0m\u001b[0;34m.\u001b[0m\u001b[0mnow\u001b[0m\u001b[0;34m(\u001b[0m\u001b[0;34m)\u001b[0m\u001b[0;34m\u001b[0m\u001b[0;34m\u001b[0m\u001b[0m\n\u001b[0;32m---> 28\u001b[0;31m         \u001b[0malgorithm_output\u001b[0m \u001b[0;34m=\u001b[0m \u001b[0mgenetic_algorithm\u001b[0m\u001b[0;34m(\u001b[0m\u001b[0mpopulation\u001b[0m\u001b[0;34m=\u001b[0m\u001b[0mcityList\u001b[0m\u001b[0;34m,\u001b[0m \u001b[0mpopulation_size\u001b[0m\u001b[0;34m=\u001b[0m\u001b[0;36m100\u001b[0m\u001b[0;34m,\u001b[0m \u001b[0melite_size\u001b[0m\u001b[0;34m=\u001b[0m\u001b[0;36m20\u001b[0m\u001b[0;34m,\u001b[0m \u001b[0mmutation_rate\u001b[0m\u001b[0;34m=\u001b[0m\u001b[0;36m0.07\u001b[0m\u001b[0;34m,\u001b[0m \u001b[0mgenerations\u001b[0m\u001b[0;34m=\u001b[0m\u001b[0;36m200\u001b[0m\u001b[0;34m,\u001b[0m \u001b[0mcrossover_function\u001b[0m\u001b[0;34m=\u001b[0m\u001b[0mcrossover_function\u001b[0m\u001b[0;34m,\u001b[0m \u001b[0mmutator_function\u001b[0m\u001b[0;34m=\u001b[0m\u001b[0mmutation_function\u001b[0m\u001b[0;34m)\u001b[0m\u001b[0;34m\u001b[0m\u001b[0;34m\u001b[0m\u001b[0m\n\u001b[0m\u001b[1;32m     29\u001b[0m         \u001b[0mcurrent\u001b[0m\u001b[0;34m,\u001b[0m \u001b[0mpeak\u001b[0m \u001b[0;34m=\u001b[0m \u001b[0mtracemalloc\u001b[0m\u001b[0;34m.\u001b[0m\u001b[0mget_traced_memory\u001b[0m\u001b[0;34m(\u001b[0m\u001b[0;34m)\u001b[0m\u001b[0;34m\u001b[0m\u001b[0;34m\u001b[0m\u001b[0m\n\u001b[1;32m     30\u001b[0m         \u001b[0mend_time\u001b[0m \u001b[0;34m=\u001b[0m \u001b[0mdatetime\u001b[0m\u001b[0;34m.\u001b[0m\u001b[0mdatetime\u001b[0m\u001b[0;34m.\u001b[0m\u001b[0mnow\u001b[0m\u001b[0;34m(\u001b[0m\u001b[0;34m)\u001b[0m\u001b[0;34m\u001b[0m\u001b[0;34m\u001b[0m\u001b[0m\n",
            "\u001b[0;32m<ipython-input-24-d54583cdd041>\u001b[0m in \u001b[0;36mgenetic_algorithm\u001b[0;34m(population, population_size, elite_size, mutation_rate, generations, mutator_function, crossover_function)\u001b[0m\n\u001b[1;32m      4\u001b[0m \u001b[0;34m\u001b[0m\u001b[0m\n\u001b[1;32m      5\u001b[0m     \u001b[0;32mfor\u001b[0m \u001b[0mi\u001b[0m \u001b[0;32min\u001b[0m \u001b[0mrange\u001b[0m\u001b[0;34m(\u001b[0m\u001b[0;36m0\u001b[0m\u001b[0;34m,\u001b[0m \u001b[0mgenerations\u001b[0m\u001b[0;34m)\u001b[0m\u001b[0;34m:\u001b[0m\u001b[0;34m\u001b[0m\u001b[0;34m\u001b[0m\u001b[0m\n\u001b[0;32m----> 6\u001b[0;31m         \u001b[0mcurrent_population\u001b[0m \u001b[0;34m=\u001b[0m \u001b[0mnext_generation\u001b[0m\u001b[0;34m(\u001b[0m\u001b[0mcurrent_population\u001b[0m\u001b[0;34m,\u001b[0m \u001b[0melite_size\u001b[0m\u001b[0;34m,\u001b[0m \u001b[0mmutation_rate\u001b[0m\u001b[0;34m,\u001b[0m \u001b[0mmutator_function\u001b[0m\u001b[0;34m,\u001b[0m \u001b[0mcrossover_function\u001b[0m\u001b[0;34m)\u001b[0m\u001b[0;34m\u001b[0m\u001b[0;34m\u001b[0m\u001b[0m\n\u001b[0m\u001b[1;32m      7\u001b[0m \u001b[0;34m\u001b[0m\u001b[0m\n\u001b[1;32m      8\u001b[0m     \u001b[0;31m# print(\"Final distance: \" + str(1 / rank_routes(current_population)[0][1]))\u001b[0m\u001b[0;34m\u001b[0m\u001b[0;34m\u001b[0m\u001b[0m\n",
            "\u001b[0;32m<ipython-input-23-81da1e431dff>\u001b[0m in \u001b[0;36mnext_generation\u001b[0;34m(current_generation, elite_size, mutation_rate, mutator_function, crossover_function)\u001b[0m\n\u001b[1;32m      2\u001b[0m     \u001b[0mranked_population\u001b[0m \u001b[0;34m=\u001b[0m \u001b[0mrank_routes\u001b[0m\u001b[0;34m(\u001b[0m\u001b[0mcurrent_generation\u001b[0m\u001b[0;34m)\u001b[0m\u001b[0;34m\u001b[0m\u001b[0;34m\u001b[0m\u001b[0m\n\u001b[1;32m      3\u001b[0m     \u001b[0mmating_pool\u001b[0m \u001b[0;34m=\u001b[0m \u001b[0mselection\u001b[0m\u001b[0;34m(\u001b[0m\u001b[0mranked_population\u001b[0m\u001b[0;34m,\u001b[0m \u001b[0melite_size\u001b[0m\u001b[0;34m,\u001b[0m \u001b[0mcurrent_generation\u001b[0m\u001b[0;34m)\u001b[0m\u001b[0;34m\u001b[0m\u001b[0;34m\u001b[0m\u001b[0m\n\u001b[0;32m----> 4\u001b[0;31m     \u001b[0mchildren\u001b[0m \u001b[0;34m=\u001b[0m \u001b[0mbreed_population\u001b[0m\u001b[0;34m(\u001b[0m\u001b[0mmating_pool\u001b[0m\u001b[0;34m,\u001b[0m \u001b[0melite_size\u001b[0m\u001b[0;34m,\u001b[0m \u001b[0mcrossover_function\u001b[0m\u001b[0;34m)\u001b[0m\u001b[0;34m\u001b[0m\u001b[0;34m\u001b[0m\u001b[0m\n\u001b[0m\u001b[1;32m      5\u001b[0m     \u001b[0mnext_generation\u001b[0m \u001b[0;34m=\u001b[0m \u001b[0mmutate_population\u001b[0m\u001b[0;34m(\u001b[0m\u001b[0mchildren\u001b[0m\u001b[0;34m,\u001b[0m \u001b[0mmutation_rate\u001b[0m\u001b[0;34m,\u001b[0m \u001b[0mmutator_function\u001b[0m\u001b[0;34m)\u001b[0m\u001b[0;34m\u001b[0m\u001b[0;34m\u001b[0m\u001b[0m\n\u001b[1;32m      6\u001b[0m     \u001b[0;32mreturn\u001b[0m \u001b[0mnext_generation\u001b[0m\u001b[0;34m\u001b[0m\u001b[0;34m\u001b[0m\u001b[0m\n",
            "\u001b[0;32m<ipython-input-15-c4e06b8b7acb>\u001b[0m in \u001b[0;36mbreed_population\u001b[0;34m(mating_pool, elite_size, crossover_function)\u001b[0m\n\u001b[1;32m      8\u001b[0m \u001b[0;34m\u001b[0m\u001b[0m\n\u001b[1;32m      9\u001b[0m     \u001b[0;32mfor\u001b[0m \u001b[0mi\u001b[0m \u001b[0;32min\u001b[0m \u001b[0mrange\u001b[0m\u001b[0;34m(\u001b[0m\u001b[0;36m0\u001b[0m\u001b[0;34m,\u001b[0m \u001b[0mlength\u001b[0m\u001b[0;34m)\u001b[0m\u001b[0;34m:\u001b[0m\u001b[0;34m\u001b[0m\u001b[0;34m\u001b[0m\u001b[0m\n\u001b[0;32m---> 10\u001b[0;31m         \u001b[0mchild\u001b[0m \u001b[0;34m=\u001b[0m \u001b[0mcrossover_function\u001b[0m\u001b[0;34m(\u001b[0m\u001b[0mpool\u001b[0m\u001b[0;34m[\u001b[0m\u001b[0mi\u001b[0m\u001b[0;34m]\u001b[0m\u001b[0;34m,\u001b[0m \u001b[0mpool\u001b[0m\u001b[0;34m[\u001b[0m\u001b[0mlen\u001b[0m\u001b[0;34m(\u001b[0m\u001b[0mmating_pool\u001b[0m\u001b[0;34m)\u001b[0m\u001b[0;34m-\u001b[0m\u001b[0mi\u001b[0m\u001b[0;34m-\u001b[0m\u001b[0;36m1\u001b[0m\u001b[0;34m]\u001b[0m\u001b[0;34m)\u001b[0m\u001b[0;34m\u001b[0m\u001b[0;34m\u001b[0m\u001b[0m\n\u001b[0m\u001b[1;32m     11\u001b[0m         \u001b[0mchildren\u001b[0m\u001b[0;34m.\u001b[0m\u001b[0mappend\u001b[0m\u001b[0;34m(\u001b[0m\u001b[0mchild\u001b[0m\u001b[0;34m)\u001b[0m\u001b[0;34m\u001b[0m\u001b[0;34m\u001b[0m\u001b[0m\n\u001b[1;32m     12\u001b[0m     \u001b[0;32mreturn\u001b[0m \u001b[0mchildren\u001b[0m\u001b[0;34m\u001b[0m\u001b[0;34m\u001b[0m\u001b[0m\n",
            "\u001b[0;32m<ipython-input-9-e87b28e4a60b>\u001b[0m in \u001b[0;36mPOS_crossover\u001b[0;34m(parent1, parent2)\u001b[0m\n\u001b[1;32m      8\u001b[0m     \u001b[0mselected_cities\u001b[0m \u001b[0;34m=\u001b[0m \u001b[0;34m[\u001b[0m\u001b[0mparent2\u001b[0m\u001b[0;34m[\u001b[0m\u001b[0my\u001b[0m\u001b[0;34m]\u001b[0m \u001b[0;32mfor\u001b[0m \u001b[0my\u001b[0m \u001b[0;32min\u001b[0m \u001b[0mrandome_indices\u001b[0m\u001b[0;34m]\u001b[0m\u001b[0;34m\u001b[0m\u001b[0;34m\u001b[0m\u001b[0m\n\u001b[1;32m      9\u001b[0m     \u001b[0;32mwhile\u001b[0m \u001b[0mlen\u001b[0m\u001b[0;34m(\u001b[0m\u001b[0moffspring\u001b[0m\u001b[0;34m)\u001b[0m \u001b[0;34m<\u001b[0m \u001b[0mlen\u001b[0m\u001b[0;34m(\u001b[0m\u001b[0mparent1\u001b[0m\u001b[0;34m)\u001b[0m\u001b[0;34m:\u001b[0m\u001b[0;34m\u001b[0m\u001b[0;34m\u001b[0m\u001b[0m\n\u001b[0;32m---> 10\u001b[0;31m         \u001b[0;32mif\u001b[0m \u001b[0mi\u001b[0m \u001b[0;32min\u001b[0m \u001b[0mrandome_indices\u001b[0m\u001b[0;34m:\u001b[0m\u001b[0;34m\u001b[0m\u001b[0;34m\u001b[0m\u001b[0m\n\u001b[0m\u001b[1;32m     11\u001b[0m             \u001b[0moffspring\u001b[0m\u001b[0;34m.\u001b[0m\u001b[0mappend\u001b[0m\u001b[0;34m(\u001b[0m\u001b[0mparent2\u001b[0m\u001b[0;34m[\u001b[0m\u001b[0mi\u001b[0m\u001b[0;34m]\u001b[0m\u001b[0;34m)\u001b[0m\u001b[0;34m\u001b[0m\u001b[0;34m\u001b[0m\u001b[0m\n\u001b[1;32m     12\u001b[0m             \u001b[0mi\u001b[0m \u001b[0;34m+=\u001b[0m \u001b[0;36m1\u001b[0m\u001b[0;34m\u001b[0m\u001b[0;34m\u001b[0m\u001b[0m\n",
            "\u001b[0;31mKeyboardInterrupt\u001b[0m: "
          ]
        }
      ],
      "source": [
        "def get_current_memory_info():\n",
        "   current_process = psutil.Process()\n",
        "   return current_process.memory_info().rss\n",
        "\n",
        "crossover_functions = {\n",
        "    OX1_crossover: \"OX1\",\n",
        "    OX2_crossover: \"OX2\",\n",
        "    POS_crossover: \"POS\",\n",
        "    ER_crossover: \"ER\",\n",
        "    PMX_crossover: \"PMX\",\n",
        "    CX_crossover: \"CX\",\n",
        "    AP_crossover: \"AP\"\n",
        "}\n",
        "mutation_functions = {\n",
        "    DM_mutate: \"DM\",\n",
        "    ISM_mutate: \"ISM\",\n",
        "    IVM_mutate: \"IVM\",\n",
        "    EM_mutate: \"EM\",\n",
        "    SIM_mutate: \"SIM\",\n",
        "    SM_mutate: \"SM\"\n",
        "}\n",
        "results = {}\n",
        "for mutation_function, mutation_function_name in mutation_functions.items():\n",
        "    for crossover_function, crossover_function_name in crossover_functions.items():\n",
        "        print(f'calculating {mutation_function_name} {crossover_function_name}...')\n",
        "        tracemalloc.start()\n",
        "        start_time = datetime.datetime.now()\n",
        "        algorithm_output = genetic_algorithm(population=cityList, population_size=100, elite_size=20, mutation_rate=0.07, generations=200, crossover_function=crossover_function, mutator_function=mutation_function)\n",
        "        current, peak = tracemalloc.get_traced_memory()\n",
        "        end_time = datetime.datetime.now()\n",
        "        tracemalloc.stop()\n",
        "        results[f'{mutation_function_name}-{crossover_function_name}'] = (algorithm_output, (end_time-start_time), peak)\n",
        "        print(results[f'{mutation_function_name}-{crossover_function_name}'])"
      ]
    },
    {
      "cell_type": "code",
      "execution_count": null,
      "metadata": {
        "colab": {
          "base_uri": "https://localhost:8080/"
        },
        "id": "zFPNbnifJAVQ",
        "outputId": "b2e4f7df-3095-4e5e-ee2e-ae47de1e4f3b"
      },
      "outputs": [
        {
          "output_type": "stream",
          "name": "stdout",
          "text": [
            "{'DM-OX1': (37698871.10388328, datetime.timedelta(seconds=3776, microseconds=877103), 12285911), 'DM-OX2': (41458869.704358205, datetime.timedelta(seconds=2533, microseconds=211632), 5427724)}\n",
            "{'DM-OX1': (37698871.10388328, '1:02:56.877103', 12285911), 'DM-OX2': (41458869.704358205, '0:42:13.211632', 5427724)}\n"
          ]
        }
      ],
      "source": [
        "print(results)\n",
        "for key in results.keys():\n",
        "    results[key] = (results[key][0], str(results[key][1]), results[key][2])\n",
        "print(results)"
      ]
    },
    {
      "cell_type": "code",
      "execution_count": null,
      "metadata": {
        "id": "RnxhAuef1Fn0"
      },
      "outputs": [],
      "source": [
        "json_object = json.dumps(results, indent=4)\n",
        "\n",
        "with open(\"rl5915_results.json\", \"w\") as outfile:\n",
        "    outfile.write(json_object)"
      ]
    },
    {
      "cell_type": "code",
      "source": [],
      "metadata": {
        "id": "UNhL_mpHwBPu"
      },
      "execution_count": null,
      "outputs": []
    }
  ],
  "metadata": {
    "colab": {
      "provenance": []
    },
    "kernelspec": {
      "display_name": "Python 3",
      "language": "python",
      "name": "python3"
    },
    "language_info": {
      "codemirror_mode": {
        "name": "ipython",
        "version": 3
      },
      "file_extension": ".py",
      "mimetype": "text/x-python",
      "name": "python",
      "nbconvert_exporter": "python",
      "pygments_lexer": "ipython3",
      "version": "3.10.6"
    }
  },
  "nbformat": 4,
  "nbformat_minor": 0
}
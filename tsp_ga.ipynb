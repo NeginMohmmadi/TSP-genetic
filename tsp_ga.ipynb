{
 "cells": [
  {
   "cell_type": "markdown",
   "metadata": {},
   "source": [
    "# Solve TSP problem using Genetic Algorithm"
   ]
  },
  {
   "cell_type": "markdown",
   "metadata": {},
   "source": [
    "Tanaz Ghahremani, Hasti Khajeh, Negin Mohammadi, Sina Rostami"
   ]
  },
  {
   "cell_type": "markdown",
   "metadata": {},
   "source": [
    "## Import libraries"
   ]
  },
  {
   "cell_type": "code",
   "execution_count": null,
   "metadata": {},
   "outputs": [],
   "source": [
    "import numpy as np, random, operator, pandas as pd, matplotlib.pyplot as plt, psutil, json, datetime, tracemalloc"
   ]
  },
  {
   "cell_type": "markdown",
   "metadata": {},
   "source": [
    "## Model Gen and Chromosome"
   ]
  },
  {
   "cell_type": "code",
   "execution_count": null,
   "metadata": {},
   "outputs": [],
   "source": [
    "class City: # Gen in GA\n",
    "    def __init__(self, x, y):\n",
    "        self.x = x\n",
    "        self.y = y\n",
    "\n",
    "    def distance(self, city):\n",
    "        xDis = abs(self.x - city.x)\n",
    "        yDis = abs(self.y - city.y)\n",
    "        distance = np.sqrt((xDis ** 2) + (yDis ** 2))\n",
    "        return distance\n",
    "\n",
    "    def __repr__(self):\n",
    "        return \"(\" + str(self.x) + \",\" + str(self.y) + \")\""
   ]
  },
  {
   "cell_type": "code",
   "execution_count": null,
   "metadata": {},
   "outputs": [],
   "source": [
    "class Route: # Chromosome in GA\n",
    "    def __init__(self, cities : list):\n",
    "        self.cities = cities\n",
    "        self.fitness = 0\n",
    "        self.distance = 0\n",
    "\n",
    "    def calculate_distance(self):\n",
    "        if self.distance == 0:\n",
    "            pathDistance = 0\n",
    "            for i in range(0, len(self.cities)):\n",
    "                fromCity = self.cities[i]\n",
    "                toCity = None\n",
    "                if i + 1 < len(self.cities):\n",
    "                    toCity = self.cities[i + 1]\n",
    "                else:\n",
    "                    toCity = self.cities[0]\n",
    "                pathDistance += fromCity.distance(toCity)\n",
    "            self.distance = pathDistance\n",
    "        return self.distance\n",
    "\n",
    "    def calculate_fitness(self):\n",
    "        if self.fitness == 0:\n",
    "            self.fitness = 1 / float(self.calculate_distance())\n",
    "        return self.fitness"
   ]
  },
  {
   "cell_type": "markdown",
   "metadata": {},
   "source": [
    "## GA functions"
   ]
  },
  {
   "cell_type": "code",
   "execution_count": null,
   "metadata": {},
   "outputs": [],
   "source": [
    "def create_route(cityList):\n",
    "    route = random.sample(cityList, len(cityList))\n",
    "    return route"
   ]
  },
  {
   "cell_type": "code",
   "execution_count": null,
   "metadata": {},
   "outputs": [],
   "source": [
    "def initial_population(population_size, cityList):\n",
    "    population = []\n",
    "\n",
    "    for i in range(0, population_size):\n",
    "        population.append(create_route(cityList))\n",
    "    return population"
   ]
  },
  {
   "cell_type": "code",
   "execution_count": null,
   "metadata": {},
   "outputs": [],
   "source": [
    "def rank_routes(population):\n",
    "    fitnessResults = {}\n",
    "    for i in range(0,len(population)):\n",
    "        fitnessResults[i] = Route(population[i]).calculate_fitness()\n",
    "    return sorted(fitnessResults.items(), key = operator.itemgetter(1), reverse = True)"
   ]
  },
  {
   "cell_type": "code",
   "execution_count": null,
   "metadata": {},
   "outputs": [],
   "source": [
    "def selection(ranked_population, elite_size, population):\n",
    "    selectionResults = []\n",
    "    df = pd.DataFrame(np.array(ranked_population), columns=[\"Index\",\"Fitness\"])\n",
    "    df['cum_sum'] = df.Fitness.cumsum()\n",
    "    df['cum_perc'] = 100*df.cum_sum/df.Fitness.sum()\n",
    "\n",
    "    for i in range(0, elite_size):\n",
    "        selectionResults.append(ranked_population[i][0])\n",
    "    for _ in range(0, len(ranked_population) - elite_size):\n",
    "        pick = 100*random.random()\n",
    "        for i in range(0, len(ranked_population)):\n",
    "            if pick <= df.iat[i,3]:\n",
    "                selectionResults.append(ranked_population[i][0])\n",
    "                break\n",
    "\n",
    "    mating_pool = []\n",
    "    for i in range(0, len(selectionResults)):\n",
    "        index = selectionResults[i]\n",
    "        mating_pool.append(population[index])\n",
    "    return mating_pool"
   ]
  },
  {
   "cell_type": "code",
   "execution_count": null,
   "metadata": {},
   "outputs": [],
   "source": [
    "def OX1_crossover(parent1, parent2):\n",
    "    n = len(parent1)\n",
    "    index_low = random.randint(0, n-2)\n",
    "    index_high = random.randint(index_low+1, n-1)\n",
    "    offspring = [-1 for _ in range(n)]\n",
    "    offspring[index_low: index_high+1] = parent1[index_low: index_high+1]\n",
    "    j = (index_high + 1)%n\n",
    "    if index_low == 0:\n",
    "        k = index_high\n",
    "    else:\n",
    "        k = -1\n",
    "    for i in range(n):\n",
    "        if parent2[(i+j)%n] not in parent1[index_low: index_high+1]:\n",
    "            if k == index_low - 1:\n",
    "                k = index_high + 1\n",
    "            else:\n",
    "                k += 1\n",
    "            offspring[k] = parent2[(i+j)%n]\n",
    "    return offspring"
   ]
  },
  {
   "cell_type": "code",
   "execution_count": null,
   "metadata": {},
   "outputs": [],
   "source": [
    "def POS_crossover(parent1: list, parent2: list):\n",
    "    number_of_positions_to_impose = int(random.random() * len(parent1))\n",
    "    indices = [i for i in range(len(parent1))]\n",
    "    randome_indices = sorted(random.sample(indices, number_of_positions_to_impose))\n",
    "    offspring = []\n",
    "    current_index_of_parent_1 = 0\n",
    "    i = 0\n",
    "    selected_cities = [parent2[y] for y in randome_indices]\n",
    "    while len(offspring) < len(parent1):\n",
    "        if i in randome_indices:\n",
    "            offspring.append(parent2[i])\n",
    "            i += 1\n",
    "        else:\n",
    "            if parent1[current_index_of_parent_1] not in selected_cities:\n",
    "                offspring.append(parent1[current_index_of_parent_1])\n",
    "                i += 1\n",
    "            current_index_of_parent_1 += 1\n",
    "    return offspring"
   ]
  },
  {
   "cell_type": "code",
   "execution_count": null,
   "metadata": {},
   "outputs": [],
   "source": [
    "def ER_crossover(parent1: list, parent2: list):\n",
    "    def get_neighbors(parent, position):\n",
    "        prev_city = position - 1 if position - 1 >= 0 else len(parent1) - 1\n",
    "        next_city = position + 1 if position + 1 < len(parent1) else 0\n",
    "        return [parent[prev_city], parent[next_city]]\n",
    "\n",
    "    neighbor_list = {}\n",
    "    for i, city in enumerate(parent1):\n",
    "        index_in_parent2 = parent2.index(city)\n",
    "        neighbor_list[city] = set(get_neighbors(parent1, i)+get_neighbors(parent2, index_in_parent2))\n",
    "\n",
    "    unvisited = set(parent1)\n",
    "    current_city = parent1[0]\n",
    "    offspring = [current_city]\n",
    "    unvisited.remove(current_city)\n",
    "    while len(offspring) < len(parent1):\n",
    "        neighbors = neighbor_list[current_city]\n",
    "        if not len(neighbors):\n",
    "            if not len(unvisited):\n",
    "                return offspring\n",
    "            current_city = unvisited.pop()\n",
    "            offspring.append(current_city)\n",
    "            continue\n",
    "        min_neighbor = None\n",
    "        min_neighbor_len = len(parent1)\n",
    "        for neighbor in neighbors:\n",
    "            neighbor_list[neighbor].remove(current_city)\n",
    "            if len(neighbor_list[neighbor]) < min_neighbor_len:\n",
    "                min_neighbor_len = len(neighbor_list[neighbor])\n",
    "                min_neighbor = neighbor\n",
    "        current_city = min_neighbor\n",
    "        offspring.append(current_city)\n",
    "        unvisited.remove(current_city)\n",
    "    return offspring"
   ]
  },
  {
   "cell_type": "code",
   "execution_count": null,
   "metadata": {},
   "outputs": [
    {
     "data": {
      "text/plain": [
       "[1, 2, 4, 6, 8, 7, 5, 3]"
      ]
     },
     "metadata": {},
     "output_type": "display_data"
    }
   ],
   "source": [
    "import random\n",
    "def OX2_crossover(parent1: list, parent2: list):\n",
    "    n = len(parent1)\n",
    "    index_low = random.randint(0, n-2)\n",
    "    index_high = random.randint(index_low+1, n-1)\n",
    "    selected = parent1[index_low:index_high+1]\n",
    "    new_order = []\n",
    "    for i in selected:\n",
    "        new_order.append((i, parent2.index(i)))\n",
    "    new_order = sorted(new_order, key=lambda x: x[1])\n",
    "    offspring = parent1\n",
    "    subroute = []\n",
    "    for i in range(index_high-index_low+1):\n",
    "        subroute.append(new_order[i][0])\n",
    "    offspring[index_low: index_high+1] = subroute\n",
    "    return offspring\n",
    "\n",
    "OX2_crossover([1, 2, 3, 4, 5, 6, 7, 8], [2, 4, 6, 8, 7, 5, 3, 1])"
   ]
  },
  {
   "cell_type": "code",
   "execution_count": null,
   "metadata": {},
   "outputs": [
    {
     "data": {
      "text/plain": [
       "[1, 2, 3, 4, 6, 8, 7, 5]"
      ]
     },
     "metadata": {},
     "output_type": "display_data"
    }
   ],
   "source": [
    "def PMX_crossover(parent1, parent2):\n",
    "    n = len(parent1)\n",
    "    index_low = random.randint(0, n-2)\n",
    "    index_high = random.randint(index_low+1, n-1)\n",
    "    # index_low = 3\n",
    "    # index_high = 5\n",
    "    offspring = parent1[:index_low] + parent2[index_low: index_high+1] + parent1[index_high+1:]\n",
    "    relations = {}\n",
    "    for i in range(index_low, index_high+1):\n",
    "        relations[parent2[i]] = parent1[i]\n",
    "    for i in range(index_low):\n",
    "        while offspring[i] in relations:\n",
    "            offspring[i] = relations[offspring[i]]\n",
    "    for i in range(index_high+1, n):\n",
    "        while offspring[i] in relations:\n",
    "            offspring[i] = relations[offspring[i]]\n",
    "    return offspring\n",
    "\n",
    "PMX_crossover([1, 2, 3, 4, 5, 6, 7, 8], [3, 7, 5, 1, 6, 8, 2, 4])"
   ]
  },
  {
   "cell_type": "code",
   "execution_count": null,
   "metadata": {},
   "outputs": [
    {
     "data": {
      "text/plain": [
       "[2, 4, 6, 8, 7, 5, 3, 1]"
      ]
     },
     "metadata": {},
     "output_type": "display_data"
    }
   ],
   "source": [
    "def CX_crossover(parent1: list, parent2: list):\n",
    "    n = len(parent1)\n",
    "    offspring = [-1 for _ in range(n)]\n",
    "    parents = [parent1, parent2]\n",
    "    for i in range(n):\n",
    "        if offspring[i]==-1:\n",
    "            random.shuffle(parents)\n",
    "            offspring[i] = parents[0][i]\n",
    "            j = parents[1].index(parents[0][i])\n",
    "            while j!=i:\n",
    "                offspring[j] = parents[0][j]\n",
    "                j = parents[1].index(parents[0][j])\n",
    "    return offspring\n",
    "\n",
    "CX_crossover([1, 2, 3, 4, 5, 6, 7, 8], [2, 4, 6, 8, 7, 5, 3, 1])"
   ]
  },
  {
   "cell_type": "code",
   "execution_count": null,
   "metadata": {},
   "outputs": [
    {
     "data": {
      "text/plain": [
       "[1, 3, 2, 7, 5, 4, 6, 8]"
      ]
     },
     "metadata": {},
     "output_type": "display_data"
    }
   ],
   "source": [
    "def AP_crossover(parent1: list, parent2: list):\n",
    "    n = len(parent1)\n",
    "    mixed = []\n",
    "    for i in range(n):\n",
    "        mixed.append(parent1[i])\n",
    "        mixed.append(parent2[i])\n",
    "    offspring = []\n",
    "    for item in mixed:\n",
    "        if item not in offspring:\n",
    "            offspring.append(item)\n",
    "    return offspring\n",
    "AP_crossover([1, 2, 3, 4, 5, 6, 7, 8], [3, 7, 5, 1, 6, 8, 2, 4])"
   ]
  },
  {
   "cell_type": "code",
   "execution_count": null,
   "metadata": {},
   "outputs": [],
   "source": [
    "def breed_population(mating_pool, elite_size, crossover_function):\n",
    "    children = []\n",
    "    length = len(mating_pool) - elite_size\n",
    "    pool = random.sample(mating_pool, len(mating_pool))\n",
    "\n",
    "    for i in range(0,elite_size):\n",
    "        children.append(mating_pool[i])\n",
    "\n",
    "    for i in range(0, length):\n",
    "        child = crossover_function(pool[i], pool[len(mating_pool)-i-1])\n",
    "        children.append(child)\n",
    "    return children"
   ]
  },
  {
   "cell_type": "code",
   "execution_count": null,
   "metadata": {},
   "outputs": [],
   "source": [
    "def DM_mutate(individual: list):\n",
    "    n = len(individual)\n",
    "    index_low = random.randint(0, n-1)\n",
    "    index_high = random.randint(index_low, n-1)\n",
    "    subroute = individual[index_low:index_high+1]\n",
    "    individual = individual[:index_low] + individual[index_high+1:]\n",
    "    random_position = random.randint(0, len(individual))\n",
    "    if random_position == 0:\n",
    "        individual = subroute + individual\n",
    "    elif random_position == len(individual):\n",
    "        individual = individual + subroute\n",
    "    else:\n",
    "        individual = individual[:random_position] + subroute + individual[random_position:]\n",
    "    return individual\n"
   ]
  },
  {
   "cell_type": "code",
   "execution_count": null,
   "metadata": {},
   "outputs": [],
   "source": [
    "def ISM_mutate(individual: list):\n",
    "    n = len(individual)\n",
    "    index = random.randint(0, n-1)\n",
    "    selected_city = individual[index]\n",
    "    individual = individual[:index] + individual[index+1:]\n",
    "    random_position = random.randint(0, n-1)\n",
    "    individual.insert(random_position, selected_city)\n",
    "    return individual"
   ]
  },
  {
   "cell_type": "code",
   "execution_count": null,
   "metadata": {},
   "outputs": [],
   "source": [
    "def IVM_mutate(individual: list):\n",
    "    n = len(individual)\n",
    "    index_low = random.randint(0, n-1)\n",
    "    index_high = random.randint(index_low, n-1)\n",
    "    subroute = individual[index_low:index_high+1]\n",
    "    subroute.reverse()\n",
    "    individual = individual[:index_low] + individual[index_high+1:]\n",
    "    random_position = random.randint(0, len(individual))\n",
    "    if random_position == 0:\n",
    "        individual = subroute + individual\n",
    "    elif random_position == len(individual):\n",
    "        individual = individual + subroute\n",
    "    else:\n",
    "        individual = individual[:random_position] + subroute + individual[random_position:]\n",
    "    return individual"
   ]
  },
  {
   "cell_type": "code",
   "execution_count": null,
   "metadata": {},
   "outputs": [
    {
     "data": {
      "text/plain": [
       "[1, 2, 6, 4, 5, 3, 7, 8]"
      ]
     },
     "metadata": {},
     "output_type": "display_data"
    }
   ],
   "source": [
    "def EM_mutate(individual: list):\n",
    "    n = len(individual)\n",
    "    ind1, ind2 = random.sample([i for i in range(n)], 2)\n",
    "    individual[ind1], individual[ind2] = individual[ind2], individual[ind1]\n",
    "    return individual\n",
    "EM_mutate([1, 2, 3, 4, 5, 6, 7, 8])\n"
   ]
  },
  {
   "cell_type": "code",
   "execution_count": null,
   "metadata": {},
   "outputs": [
    {
     "data": {
      "text/plain": [
       "[1, 2, 3, 4, 5, 6, 7, 8]"
      ]
     },
     "metadata": {},
     "output_type": "display_data"
    }
   ],
   "source": [
    "def SIM_mutate(individual: list):\n",
    "    n = len(individual)\n",
    "    index_low = random.randint(0, n-1)\n",
    "    index_high = random.randint(index_low, n-1)\n",
    "    subroute = individual[index_low: index_high+1]\n",
    "    subroute.reverse()\n",
    "    individual = individual[:index_low] + subroute + individual[index_high+1:]\n",
    "    return individual\n",
    "SIM_mutate([1, 2, 3, 4, 5, 6, 7, 8])"
   ]
  },
  {
   "cell_type": "code",
   "execution_count": null,
   "metadata": {},
   "outputs": [
    {
     "data": {
      "text/plain": [
       "[1, 2, 3, 4, 5, 6, 7, 8]"
      ]
     },
     "metadata": {},
     "output_type": "display_data"
    }
   ],
   "source": [
    "def SM_mutate(individual: list):\n",
    "    n = len(individual)\n",
    "    index_low = random.randint(0, n-1)\n",
    "    index_high = random.randint(index_low, n-1)\n",
    "\n",
    "    subroute = individual[index_low: index_high+1]\n",
    "    random.shuffle(subroute)\n",
    "    individual = individual[:index_low] + subroute + individual[index_high+1:]\n",
    "    return individual\n",
    "SM_mutate([1, 2, 3, 4, 5, 6, 7, 8])"
   ]
  },
  {
   "cell_type": "code",
   "execution_count": null,
   "metadata": {},
   "outputs": [],
   "source": [
    "def mutate_population(population, mutation_rate, mutator_function):\n",
    "    mutated_population = []\n",
    "\n",
    "    for individual in population:\n",
    "        mutated_individual = mutator_function(individual) if random.random() < mutation_rate else individual\n",
    "        mutated_population.append(mutated_individual)\n",
    "    return mutated_population"
   ]
  },
  {
   "cell_type": "code",
   "execution_count": null,
   "metadata": {},
   "outputs": [],
   "source": [
    "def next_generation(current_generation, elite_size, mutation_rate, mutator_function, crossover_function):\n",
    "    ranked_population = rank_routes(current_generation)\n",
    "    mating_pool = selection(ranked_population, elite_size, current_generation)\n",
    "    children = breed_population(mating_pool, elite_size, crossover_function)\n",
    "    next_generation = mutate_population(children, mutation_rate, mutator_function)\n",
    "    return next_generation"
   ]
  },
  {
   "cell_type": "markdown",
   "metadata": {},
   "source": [
    "## Genetic algorithm main functions"
   ]
  },
  {
   "cell_type": "code",
   "execution_count": null,
   "metadata": {},
   "outputs": [],
   "source": [
    "def genetic_algorithm(population, population_size, elite_size, mutation_rate, generations, mutator_function, crossover_function):\n",
    "    current_population = initial_population(population_size, population)\n",
    "    # print(\"Initial distance: \" + str(1 / rank_routes(current_population)[0][1]))\n",
    "\n",
    "    for i in range(0, generations):\n",
    "        current_population = next_generation(current_population, elite_size, mutation_rate, mutator_function, crossover_function)\n",
    "\n",
    "    # print(\"Final distance: \" + str(1 / rank_routes(current_population)[0][1]))\n",
    "    return 1 / rank_routes(current_population)[0][1]\n",
    "    # bestRouteIndex = rank_routes(current_population)[0][0]\n",
    "    # bestRoute = current_population[bestRouteIndex]\n",
    "    # return bestRoute"
   ]
  },
  {
   "cell_type": "code",
   "execution_count": null,
   "metadata": {},
   "outputs": [],
   "source": [
    "def genetic_algorithm_plot(population, population_size, elite_size, mutation_rate, generations, mutator_function, crossover_function):\n",
    "    pop = initial_population(population_size, population)\n",
    "    progress = []\n",
    "    progress.append(1 / rank_routes(pop)[0][1])\n",
    "\n",
    "    for i in range(0, generations):\n",
    "        pop = next_generation(pop, elite_size, mutation_rate, mutator_function, crossover_function)\n",
    "        progress.append(1 / rank_routes(pop)[0][1])\n",
    "\n",
    "    plt.plot(progress)\n",
    "    plt.ylabel('Distance')\n",
    "    plt.xlabel('Generation')\n",
    "    plt.show()"
   ]
  },
  {
   "cell_type": "markdown",
   "metadata": {},
   "source": [
    "## Read dataset or generate random data"
   ]
  },
  {
   "cell_type": "code",
   "execution_count": null,
   "metadata": {},
   "outputs": [],
   "source": [
    "cityList = []\n",
    "with open('dataset.txt', 'r') as f:\n",
    "    for line in f:\n",
    "        id, x, y = line[:-1].split(' ')\n",
    "        cityList.append(City(float(x), float(y)))"
   ]
  },
  {
   "cell_type": "markdown",
   "metadata": {},
   "source": [
    "## Run alogrithm"
   ]
  },
  {
   "cell_type": "code",
   "execution_count": null,
   "metadata": {},
   "outputs": [
    {
     "ename": "KeyboardInterrupt",
     "evalue": "ignored",
     "output_type": "error",
     "traceback": [
      "\u001b[0;31m---------------------------------------------------------------------------\u001b[0m\n",
      "\u001b[0;31mKeyboardInterrupt\u001b[0m                         Traceback (most recent call last)\n",
      "\u001b[0;32m<ipython-input-65-0bbbbc023914>\u001b[0m in \u001b[0;36m<cell line: 1>\u001b[0;34m()\u001b[0m\n",
      "\u001b[0;32m----> 1\u001b[0;31m \u001b[0mgenetic_algorithm\u001b[0m\u001b[0;34m(\u001b[0m\u001b[0mpopulation\u001b[0m\u001b[0;34m=\u001b[0m\u001b[0mcityList\u001b[0m\u001b[0;34m,\u001b[0m \u001b[0mpopulation_size\u001b[0m\u001b[0;34m=\u001b[0m\u001b[0;36m100\u001b[0m\u001b[0;34m,\u001b[0m \u001b[0melite_size\u001b[0m\u001b[0;34m=\u001b[0m\u001b[0;36m20\u001b[0m\u001b[0;34m,\u001b[0m \u001b[0mmutation_rate\u001b[0m\u001b[0;34m=\u001b[0m\u001b[0;36m0.17\u001b[0m\u001b[0;34m,\u001b[0m \u001b[0mgenerations\u001b[0m\u001b[0;34m=\u001b[0m\u001b[0;36m200\u001b[0m\u001b[0;34m,\u001b[0m \u001b[0mcrossover_function\u001b[0m\u001b[0;34m=\u001b[0m\u001b[0mOX1_crossover\u001b[0m\u001b[0;34m,\u001b[0m \u001b[0mmutator_function\u001b[0m\u001b[0;34m=\u001b[0m\u001b[0mDM_mutate\u001b[0m\u001b[0;34m)\u001b[0m\u001b[0;34m\u001b[0m\u001b[0;34m\u001b[0m\u001b[0m\n",
      "\u001b[0m\n",
      "\u001b[0;32m<ipython-input-62-d54583cdd041>\u001b[0m in \u001b[0;36mgenetic_algorithm\u001b[0;34m(population, population_size, elite_size, mutation_rate, generations, mutator_function, crossover_function)\u001b[0m\n",
      "\u001b[1;32m      4\u001b[0m \u001b[0;34m\u001b[0m\u001b[0m\n",
      "\u001b[1;32m      5\u001b[0m     \u001b[0;32mfor\u001b[0m \u001b[0mi\u001b[0m \u001b[0;32min\u001b[0m \u001b[0mrange\u001b[0m\u001b[0;34m(\u001b[0m\u001b[0;36m0\u001b[0m\u001b[0;34m,\u001b[0m \u001b[0mgenerations\u001b[0m\u001b[0;34m)\u001b[0m\u001b[0;34m:\u001b[0m\u001b[0;34m\u001b[0m\u001b[0;34m\u001b[0m\u001b[0m\n",
      "\u001b[0;32m----> 6\u001b[0;31m         \u001b[0mcurrent_population\u001b[0m \u001b[0;34m=\u001b[0m \u001b[0mnext_generation\u001b[0m\u001b[0;34m(\u001b[0m\u001b[0mcurrent_population\u001b[0m\u001b[0;34m,\u001b[0m \u001b[0melite_size\u001b[0m\u001b[0;34m,\u001b[0m \u001b[0mmutation_rate\u001b[0m\u001b[0;34m,\u001b[0m \u001b[0mmutator_function\u001b[0m\u001b[0;34m,\u001b[0m \u001b[0mcrossover_function\u001b[0m\u001b[0;34m)\u001b[0m\u001b[0;34m\u001b[0m\u001b[0;34m\u001b[0m\u001b[0m\n",
      "\u001b[0m\u001b[1;32m      7\u001b[0m \u001b[0;34m\u001b[0m\u001b[0m\n",
      "\u001b[1;32m      8\u001b[0m     \u001b[0;31m# print(\"Final distance: \" + str(1 / rank_routes(current_population)[0][1]))\u001b[0m\u001b[0;34m\u001b[0m\u001b[0;34m\u001b[0m\u001b[0m\n",
      "\n",
      "\u001b[0;32m<ipython-input-61-81da1e431dff>\u001b[0m in \u001b[0;36mnext_generation\u001b[0;34m(current_generation, elite_size, mutation_rate, mutator_function, crossover_function)\u001b[0m\n",
      "\u001b[1;32m      1\u001b[0m \u001b[0;32mdef\u001b[0m \u001b[0mnext_generation\u001b[0m\u001b[0;34m(\u001b[0m\u001b[0mcurrent_generation\u001b[0m\u001b[0;34m,\u001b[0m \u001b[0melite_size\u001b[0m\u001b[0;34m,\u001b[0m \u001b[0mmutation_rate\u001b[0m\u001b[0;34m,\u001b[0m \u001b[0mmutator_function\u001b[0m\u001b[0;34m,\u001b[0m \u001b[0mcrossover_function\u001b[0m\u001b[0;34m)\u001b[0m\u001b[0;34m:\u001b[0m\u001b[0;34m\u001b[0m\u001b[0;34m\u001b[0m\u001b[0m\n",
      "\u001b[1;32m      2\u001b[0m     \u001b[0mranked_population\u001b[0m \u001b[0;34m=\u001b[0m \u001b[0mrank_routes\u001b[0m\u001b[0;34m(\u001b[0m\u001b[0mcurrent_generation\u001b[0m\u001b[0;34m)\u001b[0m\u001b[0;34m\u001b[0m\u001b[0;34m\u001b[0m\u001b[0m\n",
      "\u001b[0;32m----> 3\u001b[0;31m     \u001b[0mmating_pool\u001b[0m \u001b[0;34m=\u001b[0m \u001b[0mselection\u001b[0m\u001b[0;34m(\u001b[0m\u001b[0mranked_population\u001b[0m\u001b[0;34m,\u001b[0m \u001b[0melite_size\u001b[0m\u001b[0;34m,\u001b[0m \u001b[0mcurrent_generation\u001b[0m\u001b[0;34m)\u001b[0m\u001b[0;34m\u001b[0m\u001b[0;34m\u001b[0m\u001b[0m\n",
      "\u001b[0m\u001b[1;32m      4\u001b[0m     \u001b[0mchildren\u001b[0m \u001b[0;34m=\u001b[0m \u001b[0mbreed_population\u001b[0m\u001b[0;34m(\u001b[0m\u001b[0mmating_pool\u001b[0m\u001b[0;34m,\u001b[0m \u001b[0melite_size\u001b[0m\u001b[0;34m,\u001b[0m \u001b[0mcrossover_function\u001b[0m\u001b[0;34m)\u001b[0m\u001b[0;34m\u001b[0m\u001b[0;34m\u001b[0m\u001b[0m\n",
      "\u001b[1;32m      5\u001b[0m     \u001b[0mnext_generation\u001b[0m \u001b[0;34m=\u001b[0m \u001b[0mmutate_population\u001b[0m\u001b[0;34m(\u001b[0m\u001b[0mchildren\u001b[0m\u001b[0;34m,\u001b[0m \u001b[0mmutation_rate\u001b[0m\u001b[0;34m,\u001b[0m \u001b[0mmutator_function\u001b[0m\u001b[0;34m)\u001b[0m\u001b[0;34m\u001b[0m\u001b[0;34m\u001b[0m\u001b[0m\n",
      "\n",
      "\u001b[0;32m<ipython-input-44-54d07d87e3f9>\u001b[0m in \u001b[0;36mselection\u001b[0;34m(ranked_population, elite_size, population)\u001b[0m\n",
      "\u001b[1;32m     10\u001b[0m         \u001b[0mpick\u001b[0m \u001b[0;34m=\u001b[0m \u001b[0;36m100\u001b[0m\u001b[0;34m*\u001b[0m\u001b[0mrandom\u001b[0m\u001b[0;34m.\u001b[0m\u001b[0mrandom\u001b[0m\u001b[0;34m(\u001b[0m\u001b[0;34m)\u001b[0m\u001b[0;34m\u001b[0m\u001b[0;34m\u001b[0m\u001b[0m\n",
      "\u001b[1;32m     11\u001b[0m         \u001b[0;32mfor\u001b[0m \u001b[0mi\u001b[0m \u001b[0;32min\u001b[0m \u001b[0mrange\u001b[0m\u001b[0;34m(\u001b[0m\u001b[0;36m0\u001b[0m\u001b[0;34m,\u001b[0m \u001b[0mlen\u001b[0m\u001b[0;34m(\u001b[0m\u001b[0mranked_population\u001b[0m\u001b[0;34m)\u001b[0m\u001b[0;34m)\u001b[0m\u001b[0;34m:\u001b[0m\u001b[0;34m\u001b[0m\u001b[0;34m\u001b[0m\u001b[0m\n",
      "\u001b[0;32m---> 12\u001b[0;31m             \u001b[0;32mif\u001b[0m \u001b[0mpick\u001b[0m \u001b[0;34m<=\u001b[0m \u001b[0mdf\u001b[0m\u001b[0;34m.\u001b[0m\u001b[0miat\u001b[0m\u001b[0;34m[\u001b[0m\u001b[0mi\u001b[0m\u001b[0;34m,\u001b[0m\u001b[0;36m3\u001b[0m\u001b[0;34m]\u001b[0m\u001b[0;34m:\u001b[0m\u001b[0;34m\u001b[0m\u001b[0;34m\u001b[0m\u001b[0m\n",
      "\u001b[0m\u001b[1;32m     13\u001b[0m                 \u001b[0mselectionResults\u001b[0m\u001b[0;34m.\u001b[0m\u001b[0mappend\u001b[0m\u001b[0;34m(\u001b[0m\u001b[0mranked_population\u001b[0m\u001b[0;34m[\u001b[0m\u001b[0mi\u001b[0m\u001b[0;34m]\u001b[0m\u001b[0;34m[\u001b[0m\u001b[0;36m0\u001b[0m\u001b[0;34m]\u001b[0m\u001b[0;34m)\u001b[0m\u001b[0;34m\u001b[0m\u001b[0;34m\u001b[0m\u001b[0m\n",
      "\u001b[1;32m     14\u001b[0m                 \u001b[0;32mbreak\u001b[0m\u001b[0;34m\u001b[0m\u001b[0;34m\u001b[0m\u001b[0m\n",
      "\n",
      "\u001b[0;32m/usr/local/lib/python3.10/dist-packages/pandas/core/indexing.py\u001b[0m in \u001b[0;36m__getitem__\u001b[0;34m(self, key)\u001b[0m\n",
      "\u001b[1;32m   2380\u001b[0m \u001b[0;34m\u001b[0m\u001b[0m\n",
      "\u001b[1;32m   2381\u001b[0m         \u001b[0mkey\u001b[0m \u001b[0;34m=\u001b[0m \u001b[0mself\u001b[0m\u001b[0;34m.\u001b[0m\u001b[0m_convert_key\u001b[0m\u001b[0;34m(\u001b[0m\u001b[0mkey\u001b[0m\u001b[0;34m)\u001b[0m\u001b[0;34m\u001b[0m\u001b[0;34m\u001b[0m\u001b[0m\n",
      "\u001b[0;32m-> 2382\u001b[0;31m         \u001b[0;32mreturn\u001b[0m \u001b[0mself\u001b[0m\u001b[0;34m.\u001b[0m\u001b[0mobj\u001b[0m\u001b[0;34m.\u001b[0m\u001b[0m_get_value\u001b[0m\u001b[0;34m(\u001b[0m\u001b[0;34m*\u001b[0m\u001b[0mkey\u001b[0m\u001b[0;34m,\u001b[0m \u001b[0mtakeable\u001b[0m\u001b[0;34m=\u001b[0m\u001b[0mself\u001b[0m\u001b[0;34m.\u001b[0m\u001b[0m_takeable\u001b[0m\u001b[0;34m)\u001b[0m\u001b[0;34m\u001b[0m\u001b[0;34m\u001b[0m\u001b[0m\n",
      "\u001b[0m\u001b[1;32m   2383\u001b[0m \u001b[0;34m\u001b[0m\u001b[0m\n",
      "\u001b[1;32m   2384\u001b[0m     \u001b[0;32mdef\u001b[0m \u001b[0m__setitem__\u001b[0m\u001b[0;34m(\u001b[0m\u001b[0mself\u001b[0m\u001b[0;34m,\u001b[0m \u001b[0mkey\u001b[0m\u001b[0;34m,\u001b[0m \u001b[0mvalue\u001b[0m\u001b[0;34m)\u001b[0m \u001b[0;34m->\u001b[0m \u001b[0;32mNone\u001b[0m\u001b[0;34m:\u001b[0m\u001b[0;34m\u001b[0m\u001b[0;34m\u001b[0m\u001b[0m\n",
      "\n",
      "\u001b[0;32m/usr/local/lib/python3.10/dist-packages/pandas/core/frame.py\u001b[0m in \u001b[0;36m_get_value\u001b[0;34m(self, index, col, takeable)\u001b[0m\n",
      "\u001b[1;32m   3912\u001b[0m         \"\"\"\n",
      "\u001b[1;32m   3913\u001b[0m         \u001b[0;32mif\u001b[0m \u001b[0mtakeable\u001b[0m\u001b[0;34m:\u001b[0m\u001b[0;34m\u001b[0m\u001b[0;34m\u001b[0m\u001b[0m\n",
      "\u001b[0;32m-> 3914\u001b[0;31m             \u001b[0mseries\u001b[0m \u001b[0;34m=\u001b[0m \u001b[0mself\u001b[0m\u001b[0;34m.\u001b[0m\u001b[0m_ixs\u001b[0m\u001b[0;34m(\u001b[0m\u001b[0mcol\u001b[0m\u001b[0;34m,\u001b[0m \u001b[0maxis\u001b[0m\u001b[0;34m=\u001b[0m\u001b[0;36m1\u001b[0m\u001b[0;34m)\u001b[0m\u001b[0;34m\u001b[0m\u001b[0;34m\u001b[0m\u001b[0m\n",
      "\u001b[0m\u001b[1;32m   3915\u001b[0m             \u001b[0;32mreturn\u001b[0m \u001b[0mseries\u001b[0m\u001b[0;34m.\u001b[0m\u001b[0m_values\u001b[0m\u001b[0;34m[\u001b[0m\u001b[0mindex\u001b[0m\u001b[0;34m]\u001b[0m\u001b[0;34m\u001b[0m\u001b[0;34m\u001b[0m\u001b[0m\n",
      "\u001b[1;32m   3916\u001b[0m \u001b[0;34m\u001b[0m\u001b[0m\n",
      "\n",
      "\u001b[0;32m/usr/local/lib/python3.10/dist-packages/pandas/core/frame.py\u001b[0m in \u001b[0;36m_ixs\u001b[0;34m(self, i, axis)\u001b[0m\n",
      "\u001b[1;32m   3729\u001b[0m \u001b[0;34m\u001b[0m\u001b[0m\n",
      "\u001b[1;32m   3730\u001b[0m             \u001b[0mcol_mgr\u001b[0m \u001b[0;34m=\u001b[0m \u001b[0mself\u001b[0m\u001b[0;34m.\u001b[0m\u001b[0m_mgr\u001b[0m\u001b[0;34m.\u001b[0m\u001b[0miget\u001b[0m\u001b[0;34m(\u001b[0m\u001b[0mi\u001b[0m\u001b[0;34m)\u001b[0m\u001b[0;34m\u001b[0m\u001b[0;34m\u001b[0m\u001b[0m\n",
      "\u001b[0;32m-> 3731\u001b[0;31m             \u001b[0mresult\u001b[0m \u001b[0;34m=\u001b[0m \u001b[0mself\u001b[0m\u001b[0;34m.\u001b[0m\u001b[0m_box_col_values\u001b[0m\u001b[0;34m(\u001b[0m\u001b[0mcol_mgr\u001b[0m\u001b[0;34m,\u001b[0m \u001b[0mi\u001b[0m\u001b[0;34m)\u001b[0m\u001b[0;34m\u001b[0m\u001b[0;34m\u001b[0m\u001b[0m\n",
      "\u001b[0m\u001b[1;32m   3732\u001b[0m \u001b[0;34m\u001b[0m\u001b[0m\n",
      "\u001b[1;32m   3733\u001b[0m             \u001b[0;31m# this is a cached value, mark it so\u001b[0m\u001b[0;34m\u001b[0m\u001b[0;34m\u001b[0m\u001b[0m\n",
      "\n",
      "\u001b[0;32m/usr/local/lib/python3.10/dist-packages/pandas/core/frame.py\u001b[0m in \u001b[0;36m_box_col_values\u001b[0;34m(self, values, loc)\u001b[0m\n",
      "\u001b[1;32m   4264\u001b[0m         \u001b[0mklass\u001b[0m \u001b[0;34m=\u001b[0m \u001b[0mself\u001b[0m\u001b[0;34m.\u001b[0m\u001b[0m_constructor_sliced\u001b[0m\u001b[0;34m\u001b[0m\u001b[0;34m\u001b[0m\u001b[0m\n",
      "\u001b[1;32m   4265\u001b[0m         \u001b[0;31m# We get index=self.index bc values is a SingleDataManager\u001b[0m\u001b[0;34m\u001b[0m\u001b[0;34m\u001b[0m\u001b[0m\n",
      "\u001b[0;32m-> 4266\u001b[0;31m         \u001b[0;32mreturn\u001b[0m \u001b[0mklass\u001b[0m\u001b[0;34m(\u001b[0m\u001b[0mvalues\u001b[0m\u001b[0;34m,\u001b[0m \u001b[0mname\u001b[0m\u001b[0;34m=\u001b[0m\u001b[0mname\u001b[0m\u001b[0;34m,\u001b[0m \u001b[0mfastpath\u001b[0m\u001b[0;34m=\u001b[0m\u001b[0;32mTrue\u001b[0m\u001b[0;34m)\u001b[0m\u001b[0;34m.\u001b[0m\u001b[0m__finalize__\u001b[0m\u001b[0;34m(\u001b[0m\u001b[0mself\u001b[0m\u001b[0;34m)\u001b[0m\u001b[0;34m\u001b[0m\u001b[0;34m\u001b[0m\u001b[0m\n",
      "\u001b[0m\u001b[1;32m   4267\u001b[0m \u001b[0;34m\u001b[0m\u001b[0m\n",
      "\u001b[1;32m   4268\u001b[0m     \u001b[0;31m# ----------------------------------------------------------------------\u001b[0m\u001b[0;34m\u001b[0m\u001b[0;34m\u001b[0m\u001b[0m\n",
      "\n",
      "\u001b[0;32m/usr/local/lib/python3.10/dist-packages/pandas/core/series.py\u001b[0m in \u001b[0;36m__init__\u001b[0;34m(self, data, index, dtype, name, copy, fastpath)\u001b[0m\n",
      "\u001b[1;32m    357\u001b[0m         ):\n",
      "\u001b[1;32m    358\u001b[0m             \u001b[0;31m# GH#33357 called with just the SingleBlockManager\u001b[0m\u001b[0;34m\u001b[0m\u001b[0;34m\u001b[0m\u001b[0m\n",
      "\u001b[0;32m--> 359\u001b[0;31m             \u001b[0mNDFrame\u001b[0m\u001b[0;34m.\u001b[0m\u001b[0m__init__\u001b[0m\u001b[0;34m(\u001b[0m\u001b[0mself\u001b[0m\u001b[0;34m,\u001b[0m \u001b[0mdata\u001b[0m\u001b[0;34m)\u001b[0m\u001b[0;34m\u001b[0m\u001b[0;34m\u001b[0m\u001b[0m\n",
      "\u001b[0m\u001b[1;32m    360\u001b[0m             \u001b[0;32mif\u001b[0m \u001b[0mfastpath\u001b[0m\u001b[0;34m:\u001b[0m\u001b[0;34m\u001b[0m\u001b[0;34m\u001b[0m\u001b[0m\n",
      "\u001b[1;32m    361\u001b[0m                 \u001b[0;31m# e.g. from _box_col_values, skip validation of name\u001b[0m\u001b[0;34m\u001b[0m\u001b[0;34m\u001b[0m\u001b[0m\n",
      "\n",
      "\u001b[0;32m/usr/local/lib/python3.10/dist-packages/pandas/core/generic.py\u001b[0m in \u001b[0;36m__init__\u001b[0;34m(self, data, copy, attrs)\u001b[0m\n",
      "\u001b[1;32m    273\u001b[0m             \u001b[0mattrs\u001b[0m \u001b[0;34m=\u001b[0m \u001b[0mdict\u001b[0m\u001b[0;34m(\u001b[0m\u001b[0mattrs\u001b[0m\u001b[0;34m)\u001b[0m\u001b[0;34m\u001b[0m\u001b[0;34m\u001b[0m\u001b[0m\n",
      "\u001b[1;32m    274\u001b[0m         \u001b[0mobject\u001b[0m\u001b[0;34m.\u001b[0m\u001b[0m__setattr__\u001b[0m\u001b[0;34m(\u001b[0m\u001b[0mself\u001b[0m\u001b[0;34m,\u001b[0m \u001b[0;34m\"_attrs\"\u001b[0m\u001b[0;34m,\u001b[0m \u001b[0mattrs\u001b[0m\u001b[0;34m)\u001b[0m\u001b[0;34m\u001b[0m\u001b[0;34m\u001b[0m\u001b[0m\n",
      "\u001b[0;32m--> 275\u001b[0;31m         \u001b[0mobject\u001b[0m\u001b[0;34m.\u001b[0m\u001b[0m__setattr__\u001b[0m\u001b[0;34m(\u001b[0m\u001b[0mself\u001b[0m\u001b[0;34m,\u001b[0m \u001b[0;34m\"_flags\"\u001b[0m\u001b[0;34m,\u001b[0m \u001b[0mFlags\u001b[0m\u001b[0;34m(\u001b[0m\u001b[0mself\u001b[0m\u001b[0;34m,\u001b[0m \u001b[0mallows_duplicate_labels\u001b[0m\u001b[0;34m=\u001b[0m\u001b[0;32mTrue\u001b[0m\u001b[0;34m)\u001b[0m\u001b[0;34m)\u001b[0m\u001b[0;34m\u001b[0m\u001b[0;34m\u001b[0m\u001b[0m\n",
      "\u001b[0m\u001b[1;32m    276\u001b[0m \u001b[0;34m\u001b[0m\u001b[0m\n",
      "\u001b[1;32m    277\u001b[0m     \u001b[0;34m@\u001b[0m\u001b[0mclassmethod\u001b[0m\u001b[0;34m\u001b[0m\u001b[0;34m\u001b[0m\u001b[0m\n",
      "\n",
      "\u001b[0;32m/usr/local/lib/python3.10/dist-packages/pandas/core/flags.py\u001b[0m in \u001b[0;36m__init__\u001b[0;34m(self, obj, allows_duplicate_labels)\u001b[0m\n",
      "\u001b[1;32m     47\u001b[0m     \u001b[0m_keys\u001b[0m \u001b[0;34m=\u001b[0m \u001b[0;34m{\u001b[0m\u001b[0;34m\"allows_duplicate_labels\"\u001b[0m\u001b[0;34m}\u001b[0m\u001b[0;34m\u001b[0m\u001b[0;34m\u001b[0m\u001b[0m\n",
      "\u001b[1;32m     48\u001b[0m \u001b[0;34m\u001b[0m\u001b[0m\n",
      "\u001b[0;32m---> 49\u001b[0;31m     \u001b[0;32mdef\u001b[0m \u001b[0m__init__\u001b[0m\u001b[0;34m(\u001b[0m\u001b[0mself\u001b[0m\u001b[0;34m,\u001b[0m \u001b[0mobj\u001b[0m\u001b[0;34m,\u001b[0m \u001b[0;34m*\u001b[0m\u001b[0;34m,\u001b[0m \u001b[0mallows_duplicate_labels\u001b[0m\u001b[0;34m)\u001b[0m \u001b[0;34m->\u001b[0m \u001b[0;32mNone\u001b[0m\u001b[0;34m:\u001b[0m\u001b[0;34m\u001b[0m\u001b[0;34m\u001b[0m\u001b[0m\n",
      "\u001b[0m\u001b[1;32m     50\u001b[0m         \u001b[0mself\u001b[0m\u001b[0;34m.\u001b[0m\u001b[0m_allows_duplicate_labels\u001b[0m \u001b[0;34m=\u001b[0m \u001b[0mallows_duplicate_labels\u001b[0m\u001b[0;34m\u001b[0m\u001b[0;34m\u001b[0m\u001b[0m\n",
      "\u001b[1;32m     51\u001b[0m         \u001b[0mself\u001b[0m\u001b[0;34m.\u001b[0m\u001b[0m_obj\u001b[0m \u001b[0;34m=\u001b[0m \u001b[0mweakref\u001b[0m\u001b[0;34m.\u001b[0m\u001b[0mref\u001b[0m\u001b[0;34m(\u001b[0m\u001b[0mobj\u001b[0m\u001b[0;34m)\u001b[0m\u001b[0;34m\u001b[0m\u001b[0;34m\u001b[0m\u001b[0m\n",
      "\n",
      "\u001b[0;31mKeyboardInterrupt\u001b[0m: "
     ]
    }
   ],
   "source": [
    "genetic_algorithm(population=cityList, population_size=100, elite_size=20, mutation_rate=0.17, generations=200, crossover_function=OX1_crossover, mutator_function=DM_mutate)"
   ]
  },
  {
   "cell_type": "code",
   "execution_count": null,
   "metadata": {},
   "outputs": [
    {
     "data": {
      "image/png": "[encoded data removed]",
      "text/plain": [
       "<Figure size 640x480 with 1 Axes>"
      ]
     },
     "metadata": {},
     "output_type": "display_data"
    }
   ],
   "source": [
    "genetic_algorithm_plot(population=cityList, population_size=100, elite_size=20, mutation_rate=0.01, generations=200, crossover_function=OX1_crossover, mutator_function=DM_mutate)"
   ]
  },
  {
   "cell_type": "markdown",
   "metadata": {},
   "source": [
    "## Run with different operators"
   ]
  },
  {
   "cell_type": "code",
   "execution_count": null,
   "metadata": {},
   "outputs": [
    {
     "name": "stdout",
     "output_type": "stream",
     "text": [
      "calculating DM OX1...\n",
      "(9873.001541617368, datetime.timedelta(seconds=60, microseconds=298240), 300752)\n",
      "calculating DM OX2...\n",
      "(20193.499584606478, datetime.timedelta(seconds=59, microseconds=319668), 159668)\n",
      "calculating DM POS...\n",
      "(12027.327670206345, datetime.timedelta(seconds=59, microseconds=409481), 224729)\n",
      "calculating DM ER...\n",
      "(9562.171887976932, datetime.timedelta(seconds=62, microseconds=798728), 315908)\n",
      "calculating DM PMX...\n",
      "(10526.993351598361, datetime.timedelta(seconds=59, microseconds=204807), 235317)\n",
      "calculating DM CX...\n",
      "(10586.16529579478, datetime.timedelta(seconds=60, microseconds=258834), 235585)\n",
      "calculating DM AP...\n",
      "(11525.498820583116, datetime.timedelta(seconds=58, microseconds=305733), 216437)\n",
      "calculating ISM OX1...\n",
      "(9474.329293670677, datetime.timedelta(seconds=56, microseconds=461665), 210484)\n",
      "calculating ISM OX2...\n",
      "(21990.500877775987, datetime.timedelta(seconds=58, microseconds=921787), 322479)\n",
      "calculating ISM POS...\n",
      "(9953.146078887326, datetime.timedelta(seconds=59, microseconds=316116), 207294)\n",
      "calculating ISM ER...\n",
      "(9485.098450725945, datetime.timedelta(seconds=60, microseconds=808017), 215972)\n",
      "calculating ISM PMX...\n",
      "(8090.755715424362, datetime.timedelta(seconds=58, microseconds=481026), 212857)\n",
      "calculating ISM CX...\n",
      "(10489.730306733942, datetime.timedelta(seconds=63, microseconds=560226), 211918)\n",
      "calculating ISM AP...\n",
      "(11469.906812742638, datetime.timedelta(seconds=57, microseconds=116105), 207002)\n",
      "calculating IVM OX1...\n",
      "(10487.207222243238, datetime.timedelta(seconds=57, microseconds=296184), 206164)\n",
      "calculating IVM OX2...\n",
      "(21382.19441913932, datetime.timedelta(seconds=56, microseconds=769581), 165520)\n",
      "calculating IVM POS...\n",
      "(9357.84754746169, datetime.timedelta(seconds=58, microseconds=772991), 206603)\n",
      "calculating IVM ER...\n",
      "(9539.875721932995, datetime.timedelta(seconds=63, microseconds=723461), 217790)\n",
      "calculating IVM PMX...\n",
      "(9268.082809629535, datetime.timedelta(seconds=56, microseconds=404971), 219540)\n",
      "calculating IVM CX...\n",
      "(10932.604944004477, datetime.timedelta(seconds=59, microseconds=535842), 516976)\n",
      "calculating IVM AP...\n",
      "(10887.95897776432, datetime.timedelta(seconds=54, microseconds=960731), 222221)\n",
      "calculating EM OX1...\n",
      "(10080.039701437763, datetime.timedelta(seconds=56, microseconds=52289), 200989)\n",
      "calculating EM OX2...\n",
      "(26993.887514275015, datetime.timedelta(seconds=58, microseconds=552327), 141152)\n",
      "calculating EM POS...\n",
      "(10343.577645427953, datetime.timedelta(seconds=60, microseconds=834943), 216824)\n",
      "calculating EM ER...\n",
      "(8694.823018255467, datetime.timedelta(seconds=59, microseconds=992901), 201546)\n",
      "calculating EM PMX...\n",
      "(10766.628349324954, datetime.timedelta(seconds=59, microseconds=632786), 216496)\n",
      "calculating EM CX...\n",
      "(12250.057383554567, datetime.timedelta(seconds=61, microseconds=444681), 210599)\n",
      "calculating EM AP...\n",
      "(11744.715998387359, datetime.timedelta(seconds=56, microseconds=814706), 199864)\n",
      "calculating SIM OX1...\n",
      "(9314.321704170963, datetime.timedelta(seconds=59, microseconds=302128), 220017)\n",
      "calculating SIM OX2...\n",
      "(24758.19597155588, datetime.timedelta(seconds=57, microseconds=79178), 153665)\n",
      "calculating SIM POS...\n",
      "(8548.677960197248, datetime.timedelta(seconds=58, microseconds=167122), 218887)\n",
      "calculating SIM ER...\n",
      "(9620.543040776745, datetime.timedelta(seconds=61, microseconds=650670), 207085)\n",
      "calculating SIM PMX...\n",
      "(8693.258584925241, datetime.timedelta(seconds=58, microseconds=303939), 205921)\n",
      "calculating SIM CX...\n",
      "(10035.663257991286, datetime.timedelta(seconds=66, microseconds=610393), 216345)\n",
      "calculating SIM AP...\n",
      "(14212.389084350185, datetime.timedelta(seconds=59, microseconds=272960), 207518)\n",
      "calculating SM OX1...\n",
      "(8932.086174006325, datetime.timedelta(seconds=57, microseconds=236760), 215071)\n",
      "calculating SM OX2...\n",
      "(20774.853269766103, datetime.timedelta(seconds=58, microseconds=642873), 156063)\n",
      "calculating SM POS...\n",
      "(10056.803888741792, datetime.timedelta(seconds=60, microseconds=941046), 220679)\n",
      "calculating SM ER...\n",
      "(10201.98031887714, datetime.timedelta(seconds=61, microseconds=186335), 220197)\n",
      "calculating SM PMX...\n",
      "(12543.13142415461, datetime.timedelta(seconds=59, microseconds=178128), 221787)\n",
      "calculating SM CX...\n",
      "(12072.963235864692, datetime.timedelta(seconds=61, microseconds=224875), 798443)\n",
      "calculating SM AP...\n",
      "(15333.10173838721, datetime.timedelta(seconds=52, microseconds=451782), 99041)\n"
     ]
    }
   ],
   "source": [
    "def get_current_memory_info():\n",
    "   current_process = psutil.Process()\n",
    "   return current_process.memory_info().rss\n",
    "\n",
    "crossover_functions = {\n",
    "    OX1_crossover: \"OX1\",\n",
    "    OX2_crossover: \"OX2\",\n",
    "    POS_crossover: \"POS\",\n",
    "    ER_crossover: \"ER\",\n",
    "    PMX_crossover: \"PMX\",\n",
    "    CX_crossover: \"CX\",\n",
    "    AP_crossover: \"AP\"\n",
    "}\n",
    "mutation_functions = {\n",
    "    DM_mutate: \"DM\",\n",
    "    ISM_mutate: \"ISM\",\n",
    "    IVM_mutate: \"IVM\",\n",
    "    EM_mutate: \"EM\",\n",
    "    SIM_mutate: \"SIM\",\n",
    "    SM_mutate: \"SM\"\n",
    "}\n",
    "results = {}\n",
    "for mutation_function, mutation_function_name in mutation_functions.items():\n",
    "    for crossover_function, crossover_function_name in crossover_functions.items():\n",
    "        print(f'calculating {mutation_function_name} {crossover_function_name}...')\n",
    "        tracemalloc.start()\n",
    "        start_time = datetime.datetime.now()\n",
    "        algorithm_output = genetic_algorithm(population=cityList, population_size=100, elite_size=20, mutation_rate=0.07, generations=200, crossover_function=crossover_function, mutator_function=mutation_function)\n",
    "        current, peak = tracemalloc.get_traced_memory()\n",
    "        end_time = datetime.datetime.now()\n",
    "        tracemalloc.stop()\n",
    "        results[f'{mutation_function_name}-{crossover_function_name}'] = (algorithm_output, (end_time-start_time), peak)\n",
    "        print(results[f'{mutation_function_name}-{crossover_function_name}'])"
   ]
  },
  {
   "cell_type": "code",
   "execution_count": null,
   "metadata": {},
   "outputs": [
    {
     "name": "stdout",
     "output_type": "stream",
     "text": [
      "{'DM-OX1': (9873.001541617368, datetime.timedelta(seconds=60, microseconds=298240), 300752), 'DM-OX2': (20193.499584606478, datetime.timedelta(seconds=59, microseconds=319668), 159668), 'DM-POS': (12027.327670206345, datetime.timedelta(seconds=59, microseconds=409481), 224729), 'DM-ER': (9562.171887976932, datetime.timedelta(seconds=62, microseconds=798728), 315908), 'DM-PMX': (10526.993351598361, datetime.timedelta(seconds=59, microseconds=204807), 235317), 'DM-CX': (10586.16529579478, datetime.timedelta(seconds=60, microseconds=258834), 235585), 'DM-AP': (11525.498820583116, datetime.timedelta(seconds=58, microseconds=305733), 216437), 'ISM-OX1': (9474.329293670677, datetime.timedelta(seconds=56, microseconds=461665), 210484), 'ISM-OX2': (21990.500877775987, datetime.timedelta(seconds=58, microseconds=921787), 322479), 'ISM-POS': (9953.146078887326, datetime.timedelta(seconds=59, microseconds=316116), 207294), 'ISM-ER': (9485.098450725945, datetime.timedelta(seconds=60, microseconds=808017), 215972), 'ISM-PMX': (8090.755715424362, datetime.timedelta(seconds=58, microseconds=481026), 212857), 'ISM-CX': (10489.730306733942, datetime.timedelta(seconds=63, microseconds=560226), 211918), 'ISM-AP': (11469.906812742638, datetime.timedelta(seconds=57, microseconds=116105), 207002), 'IVM-OX1': (10487.207222243238, datetime.timedelta(seconds=57, microseconds=296184), 206164), 'IVM-OX2': (21382.19441913932, datetime.timedelta(seconds=56, microseconds=769581), 165520), 'IVM-POS': (9357.84754746169, datetime.timedelta(seconds=58, microseconds=772991), 206603), 'IVM-ER': (9539.875721932995, datetime.timedelta(seconds=63, microseconds=723461), 217790), 'IVM-PMX': (9268.082809629535, datetime.timedelta(seconds=56, microseconds=404971), 219540), 'IVM-CX': (10932.604944004477, datetime.timedelta(seconds=59, microseconds=535842), 516976), 'IVM-AP': (10887.95897776432, datetime.timedelta(seconds=54, microseconds=960731), 222221), 'EM-OX1': (10080.039701437763, datetime.timedelta(seconds=56, microseconds=52289), 200989), 'EM-OX2': (26993.887514275015, datetime.timedelta(seconds=58, microseconds=552327), 141152), 'EM-POS': (10343.577645427953, datetime.timedelta(seconds=60, microseconds=834943), 216824), 'EM-ER': (8694.823018255467, datetime.timedelta(seconds=59, microseconds=992901), 201546), 'EM-PMX': (10766.628349324954, datetime.timedelta(seconds=59, microseconds=632786), 216496), 'EM-CX': (12250.057383554567, datetime.timedelta(seconds=61, microseconds=444681), 210599), 'EM-AP': (11744.715998387359, datetime.timedelta(seconds=56, microseconds=814706), 199864), 'SIM-OX1': (9314.321704170963, datetime.timedelta(seconds=59, microseconds=302128), 220017), 'SIM-OX2': (24758.19597155588, datetime.timedelta(seconds=57, microseconds=79178), 153665), 'SIM-POS': (8548.677960197248, datetime.timedelta(seconds=58, microseconds=167122), 218887), 'SIM-ER': (9620.543040776745, datetime.timedelta(seconds=61, microseconds=650670), 207085), 'SIM-PMX': (8693.258584925241, datetime.timedelta(seconds=58, microseconds=303939), 205921), 'SIM-CX': (10035.663257991286, datetime.timedelta(seconds=66, microseconds=610393), 216345), 'SIM-AP': (14212.389084350185, datetime.timedelta(seconds=59, microseconds=272960), 207518), 'SM-OX1': (8932.086174006325, datetime.timedelta(seconds=57, microseconds=236760), 215071), 'SM-OX2': (20774.853269766103, datetime.timedelta(seconds=58, microseconds=642873), 156063), 'SM-POS': (10056.803888741792, datetime.timedelta(seconds=60, microseconds=941046), 220679), 'SM-ER': (10201.98031887714, datetime.timedelta(seconds=61, microseconds=186335), 220197), 'SM-PMX': (12543.13142415461, datetime.timedelta(seconds=59, microseconds=178128), 221787), 'SM-CX': (12072.963235864692, datetime.timedelta(seconds=61, microseconds=224875), 798443), 'SM-AP': (15333.10173838721, datetime.timedelta(seconds=52, microseconds=451782), 99041)}\n"
     ]
    }
   ],
   "source": [
    "# import json\n",
    "# print(json.dumps(results,indent=1))\n",
    "print(results)"
   ]
  },
  {
   "cell_type": "code",
   "execution_count": null,
   "metadata": {},
   "outputs": [],
   "source": []
  }
 ],
 "metadata": {
  "kernelspec": {
   "display_name": "Python 3",
   "language": "python",
   "name": "python3"
  },
  "language_info": {
   "codemirror_mode": {
    "name": "ipython",
    "version": 3
   },
   "file_extension": ".py",
   "mimetype": "text/x-python",
   "name": "python",
   "nbconvert_exporter": "python",
   "pygments_lexer": "ipython3",
   "version": "3.10.6"
  },
  "orig_nbformat": 4
 },
 "nbformat": 4,
 "nbformat_minor": 2
}

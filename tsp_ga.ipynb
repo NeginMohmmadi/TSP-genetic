{
 "cells": [
  {
   "attachments": {},
   "cell_type": "markdown",
   "metadata": {},
   "source": [
    "# Solve TSP problem using Genetic Algorithm"
   ]
  },
  {
   "attachments": {},
   "cell_type": "markdown",
   "metadata": {},
   "source": [
    "## Import libraries"
   ]
  },
  {
   "cell_type": "code",
   "execution_count": 8,
   "metadata": {},
   "outputs": [],
   "source": [
    "import numpy as np, random, operator, pandas as pd, matplotlib.pyplot as plt"
   ]
  },
  {
   "attachments": {},
   "cell_type": "markdown",
   "metadata": {},
   "source": [
    "## Model Gen and Chromosome"
   ]
  },
  {
   "cell_type": "code",
   "execution_count": 9,
   "metadata": {},
   "outputs": [],
   "source": [
    "class City: # Gen in GA\n",
    "    def __init__(self, x, y):\n",
    "        self.x = x\n",
    "        self.y = y\n",
    "\n",
    "    def distance(self, city):\n",
    "        xDis = abs(self.x - city.x)\n",
    "        yDis = abs(self.y - city.y)\n",
    "        distance = np.sqrt((xDis ** 2) + (yDis ** 2))\n",
    "        return distance\n",
    "\n",
    "    def __repr__(self):\n",
    "        return \"(\" + str(self.x) + \",\" + str(self.y) + \")\""
   ]
  },
  {
   "cell_type": "code",
   "execution_count": 10,
   "metadata": {},
   "outputs": [],
   "source": [
    "class Route: # Chromosome in GA\n",
    "    def __init__(self, cities : list):\n",
    "        self.cities = cities\n",
    "        self.fitness = 0\n",
    "        self.distance = 0\n",
    "\n",
    "    def calculate_distance(self):\n",
    "        if self.distance == 0:\n",
    "            pathDistance = 0\n",
    "            for i in range(0, len(self.cities)):\n",
    "                fromCity = self.cities[i]\n",
    "                toCity = None\n",
    "                if i + 1 < len(self.cities):\n",
    "                    toCity = self.cities[i + 1]\n",
    "                else:\n",
    "                    toCity = self.cities[0]\n",
    "                pathDistance += fromCity.distance(toCity)\n",
    "            self.distance = pathDistance\n",
    "        return self.distance\n",
    "\n",
    "    def calculate_fitness(self):\n",
    "        if self.fitness == 0:\n",
    "            self.fitness = 1 / float(self.calculate_distance())\n",
    "        return self.fitness"
   ]
  },
  {
   "attachments": {},
   "cell_type": "markdown",
   "metadata": {},
   "source": [
    "## GA functions"
   ]
  },
  {
   "cell_type": "code",
   "execution_count": 11,
   "metadata": {},
   "outputs": [],
   "source": [
    "def create_route(cityList):\n",
    "    route = random.sample(cityList, len(cityList))\n",
    "    return route"
   ]
  },
  {
   "cell_type": "code",
   "execution_count": 12,
   "metadata": {},
   "outputs": [],
   "source": [
    "def initial_population(popSize, cityList):\n",
    "    population = []\n",
    "\n",
    "    for i in range(0, popSize):\n",
    "        population.append(create_route(cityList))\n",
    "    return population"
   ]
  },
  {
   "cell_type": "code",
   "execution_count": 13,
   "metadata": {},
   "outputs": [],
   "source": [
    "def rank_routes(population):\n",
    "    fitnessResults = {}\n",
    "    for i in range(0,len(population)):\n",
    "        fitnessResults[i] = Route(population[i]).calculate_fitness()\n",
    "    return sorted(fitnessResults.items(), key = operator.itemgetter(1), reverse = True)"
   ]
  },
  {
   "cell_type": "code",
   "execution_count": 14,
   "metadata": {},
   "outputs": [],
   "source": [
    "def selection(popRanked, eliteSize, population):\n",
    "    selectionResults = []\n",
    "    df = pd.DataFrame(np.array(popRanked), columns=[\"Index\",\"Fitness\"])\n",
    "    df['cum_sum'] = df.Fitness.cumsum()\n",
    "    df['cum_perc'] = 100*df.cum_sum/df.Fitness.sum()\n",
    "\n",
    "    for i in range(0, eliteSize):\n",
    "        selectionResults.append(popRanked[i][0])\n",
    "    for _ in range(0, len(popRanked) - eliteSize):\n",
    "        pick = 100*random.random()\n",
    "        for i in range(0, len(popRanked)):\n",
    "            if pick <= df.iat[i,3]:\n",
    "                selectionResults.append(popRanked[i][0])\n",
    "                break\n",
    "\n",
    "    mating_pool = []\n",
    "    for i in range(0, len(selectionResults)):\n",
    "        index = selectionResults[i]\n",
    "        mating_pool.append(population[index])\n",
    "    return mating_pool"
   ]
  },
  {
   "cell_type": "code",
   "execution_count": 17,
   "metadata": {},
   "outputs": [],
   "source": [
    "def OX1_crossover(parent1, parent2):\n",
    "    n = len(parent1)\n",
    "    index_low = random.randint(0, n-2)\n",
    "    index_high = random.randint(index_low+1, n-1)\n",
    "    offspring = [-1 for _ in range(n)]\n",
    "    offspring[index_low: index_high+1] = parent1[index_low: index_high+1]\n",
    "    j = (index_high + 1)%n\n",
    "    if index_low == 0:\n",
    "        k = index_high\n",
    "    else:\n",
    "        k = -1\n",
    "    for i in range(n):\n",
    "        if parent2[(i+j)%n] not in parent1[index_low: index_high+1]:\n",
    "            if k == index_low - 1:\n",
    "                k = index_high + 1\n",
    "            else:\n",
    "                k += 1\n",
    "            offspring[k] = parent2[(i+j)%n]\n",
    "    return offspring"
   ]
  },
  {
   "cell_type": "code",
   "execution_count": 19,
   "metadata": {},
   "outputs": [],
   "source": [
    "def POS_crossover(parent1: list, parent2: list):\n",
    "    number_of_positions_to_impose = int(random.random() * len(parent1))\n",
    "    indices = [i for i in range(len(parent1))]\n",
    "    randome_indices = sorted(random.sample(indices, number_of_positions_to_impose))\n",
    "    offspring = []\n",
    "    current_index_of_parent_1 = 0\n",
    "    i = 0\n",
    "    selected_cities = [parent2[y] for y in randome_indices]\n",
    "    while len(offspring) < len(parent1):\n",
    "        if i in randome_indices:\n",
    "            offspring.append(parent2[i])\n",
    "            i += 1\n",
    "        else:\n",
    "            if parent1[current_index_of_parent_1] not in selected_cities:\n",
    "                offspring.append(parent1[current_index_of_parent_1])\n",
    "                i += 1\n",
    "            current_index_of_parent_1 += 1\n",
    "    return offspring"
   ]
  },
  {
   "cell_type": "code",
   "execution_count": 20,
   "metadata": {},
   "outputs": [],
   "source": [
    "def ER_crossover(parent1: list, parent2: list):\n",
    "    def get_neighbors(parent, position):\n",
    "        prev_city = position - 1 if position - 1 >= 0 else len(parent1) - 1\n",
    "        next_city = position + 1 if position + 1 < len(parent1) else 0\n",
    "        return [parent[prev_city], parent[next_city]]\n",
    "\n",
    "    neighbor_list = {}\n",
    "    for i, city in enumerate(parent1):\n",
    "        index_in_parent2 = parent2.index(city)\n",
    "        neighbor_list[city] = set(get_neighbors(parent1, i)+get_neighbors(parent2, index_in_parent2))\n",
    "\n",
    "    unvisited = set(parent1)\n",
    "    current_city = parent1[0]\n",
    "    offspring = [current_city]\n",
    "    unvisited.remove(current_city)\n",
    "    while len(offspring) < len(parent1):\n",
    "        neighbors = neighbor_list[current_city]\n",
    "        if not len(neighbors):\n",
    "            if not len(unvisited):\n",
    "                return offspring\n",
    "            current_city = unvisited.pop()\n",
    "            offspring.append(current_city)\n",
    "            continue\n",
    "        min_neighbor = None\n",
    "        min_neighbor_len = len(parent1)\n",
    "        for neighbor in neighbors:\n",
    "            neighbor_list[neighbor].remove(current_city)\n",
    "            if len(neighbor_list[neighbor]) < min_neighbor_len:\n",
    "                min_neighbor_len = len(neighbor_list[neighbor])\n",
    "                min_neighbor = neighbor\n",
    "        current_city = min_neighbor\n",
    "        offspring.append(current_city)\n",
    "        unvisited.remove(current_city)\n",
    "    return offspring"
   ]
  },
  {
   "cell_type": "code",
   "execution_count": 21,
   "metadata": {},
   "outputs": [],
   "source": [
    "def breed(parent1, parent2):\n",
    "    child = []\n",
    "    childP1 = []\n",
    "    childP2 = []\n",
    "\n",
    "    geneA = int(random.random() * len(parent1))\n",
    "    geneB = int(random.random() * len(parent1))\n",
    "\n",
    "    startGene = min(geneA, geneB)\n",
    "    endGene = max(geneA, geneB)\n",
    "\n",
    "    for i in range(startGene, endGene):\n",
    "        childP1.append(parent1[i])\n",
    "\n",
    "    childP2 = [item for item in parent2 if item not in childP1]\n",
    "\n",
    "    child = childP1 + childP2\n",
    "    return child"
   ]
  },
  {
   "cell_type": "code",
   "execution_count": 22,
   "metadata": {},
   "outputs": [],
   "source": [
    "def breed_population(mating_pool, elite_size, crossover_function):\n",
    "    children = []\n",
    "    length = len(mating_pool) - elite_size\n",
    "    pool = random.sample(mating_pool, len(mating_pool))\n",
    "\n",
    "    for i in range(0,elite_size):\n",
    "        children.append(mating_pool[i])\n",
    "\n",
    "    for i in range(0, length):\n",
    "        child = crossover_function(pool[i], pool[len(mating_pool)-i-1])\n",
    "        children.append(child)\n",
    "    return children"
   ]
  },
  {
   "cell_type": "code",
   "execution_count": 23,
   "metadata": {},
   "outputs": [],
   "source": [
    "def DM_mutate(individual: list):\n",
    "    n = len(individual)\n",
    "    index_low = random.randint(0, n-1)\n",
    "    index_high = random.randint(index_low, n-1)\n",
    "    subroute = individual[index_low:index_high+1]\n",
    "    individual = individual[:index_low] + individual[index_high+1:]\n",
    "    random_position = random.randint(0, len(individual))\n",
    "    if random_position == 0:\n",
    "        individual = subroute + individual\n",
    "    elif random_position == len(individual):\n",
    "        individual = individual + subroute\n",
    "    else:\n",
    "        individual = individual[:random_position] + subroute + individual[random_position:]\n",
    "    return individual\n"
   ]
  },
  {
   "cell_type": "code",
   "execution_count": 24,
   "metadata": {},
   "outputs": [],
   "source": [
    "def ISM_mutate(individual: list):\n",
    "    n = len(individual)\n",
    "    index = random.randint(0, n-1)\n",
    "    selected_city = individual[index]\n",
    "    individual = individual[:index] + individual[index+1:]\n",
    "    random_position = random.randint(0, n-1)\n",
    "    individual.insert(random_position, selected_city)\n",
    "    return individual"
   ]
  },
  {
   "cell_type": "code",
   "execution_count": 25,
   "metadata": {},
   "outputs": [],
   "source": [
    "def IVM_mutate(individual: list):\n",
    "    n = len(individual)\n",
    "    index_low = random.randint(0, n-1)\n",
    "    index_high = random.randint(index_low, n-1)\n",
    "    subroute = individual[index_low:index_high+1]\n",
    "    subroute.reverse()\n",
    "    individual = individual[:index_low] + individual[index_high+1:]\n",
    "    random_position = random.randint(0, len(individual))\n",
    "    if random_position == 0:\n",
    "        individual = subroute + individual\n",
    "    elif random_position == len(individual):\n",
    "        individual = individual + subroute\n",
    "    else:\n",
    "        individual = individual[:random_position] + subroute + individual[random_position:]\n",
    "    return individual"
   ]
  },
  {
   "cell_type": "code",
   "execution_count": 26,
   "metadata": {},
   "outputs": [],
   "source": [
    "def mutate(individual, mutation_rate=0.6):\n",
    "    for swapped in range(len(individual)):\n",
    "        if(random.random() < mutation_rate):\n",
    "            swap_with = int(random.random() * len(individual))\n",
    "\n",
    "            city1 = individual[swapped]\n",
    "            city2 = individual[swap_with]\n",
    "\n",
    "            individual[swapped] = city2\n",
    "            individual[swap_with] = city1\n",
    "    return individual"
   ]
  },
  {
   "cell_type": "code",
   "execution_count": 27,
   "metadata": {},
   "outputs": [],
   "source": [
    "def mutate_population(population, mutation_rate, mutator_function):\n",
    "    mutated_population = []\n",
    "\n",
    "    for individual in population:\n",
    "        mutated_individual = mutator_function(individual) if random.random() < mutation_rate else individual\n",
    "        mutated_population.append(mutated_individual)\n",
    "    return mutated_population"
   ]
  },
  {
   "cell_type": "code",
   "execution_count": 31,
   "metadata": {},
   "outputs": [],
   "source": [
    "def next_generation(current_generation, elite_size, mutation_rate, mutator_function, crossover_function):\n",
    "    ranked_population = rank_routes(current_generation)\n",
    "    mating_pool = selection(ranked_population, elite_size, current_generation)\n",
    "    children = breed_population(mating_pool, elite_size, crossover_function)\n",
    "    next_generation = mutate_population(children, mutation_rate, mutator_function)\n",
    "    return next_generation"
   ]
  },
  {
   "attachments": {},
   "cell_type": "markdown",
   "metadata": {},
   "source": [
    "## Genetic algorithm main functions"
   ]
  },
  {
   "cell_type": "code",
   "execution_count": 41,
   "metadata": {},
   "outputs": [],
   "source": [
    "def genetic_algorithm(population, population_size, elite_size, mutation_rate, generations, mutator_function, crossover_function):\n",
    "    current_population = initial_population(population_size, population)\n",
    "    # print(\"Initial distance: \" + str(1 / rank_routes(current_population)[0][1]))\n",
    "\n",
    "    for i in range(0, generations):\n",
    "        current_population = next_generation(current_population, elite_size, mutation_rate, mutator_function, crossover_function)\n",
    "\n",
    "    # print(\"Final distance: \" + str(1 / rank_routes(current_population)[0][1]))\n",
    "    return 1 / rank_routes(current_population)[0][1]\n",
    "    # bestRouteIndex = rank_routes(current_population)[0][0]\n",
    "    # bestRoute = current_population[bestRouteIndex]\n",
    "    # return bestRoute"
   ]
  },
  {
   "cell_type": "code",
   "execution_count": 36,
   "metadata": {},
   "outputs": [],
   "source": [
    "def genetic_algorithm_plot(population, population_size, elite_size, mutation_rate, generations, mutator_function, crossover_function):\n",
    "    pop = initial_population(population_size, population)\n",
    "    progress = []\n",
    "    progress.append(1 / rank_routes(pop)[0][1])\n",
    "\n",
    "    for i in range(0, generations):\n",
    "        pop = next_generation(pop, elite_size, mutation_rate, mutator_function, crossover_function)\n",
    "        progress.append(1 / rank_routes(pop)[0][1])\n",
    "\n",
    "    plt.plot(progress)\n",
    "    plt.ylabel('Distance')\n",
    "    plt.xlabel('Generation')\n",
    "    plt.show()"
   ]
  },
  {
   "attachments": {},
   "cell_type": "markdown",
   "metadata": {},
   "source": [
    "## Read dataset or generate random data"
   ]
  },
  {
   "cell_type": "code",
   "execution_count": 33,
   "metadata": {},
   "outputs": [],
   "source": [
    "cityList = []\n",
    "with open('dataset.txt', 'r') as f:\n",
    "    for line in f:\n",
    "        id, x, y = line[:-1].split(' ')\n",
    "        cityList.append(City(float(x), float(y)))"
   ]
  },
  {
   "cell_type": "code",
   "execution_count": 16,
   "metadata": {},
   "outputs": [],
   "source": [
    "cityList = []\n",
    "\n",
    "for position in range(0,25):\n",
    "    cityList.append(City(x=int(random.random() * 200), y=int(random.random() * 200)))"
   ]
  },
  {
   "attachments": {},
   "cell_type": "markdown",
   "metadata": {},
   "source": [
    "## Run alogrithm"
   ]
  },
  {
   "cell_type": "code",
   "execution_count": 43,
   "metadata": {},
   "outputs": [
    {
     "data": {
      "text/plain": [
       "10775.247411581964"
      ]
     },
     "execution_count": 43,
     "metadata": {},
     "output_type": "execute_result"
    }
   ],
   "source": [
    "genetic_algorithm(population=cityList, population_size=100, elite_size=20, mutation_rate=0.17, generations=200, crossover_function=OX1_crossover, mutator_function=DM_mutate)"
   ]
  },
  {
   "cell_type": "code",
   "execution_count": 37,
   "metadata": {},
   "outputs": [
    {
     "data": {
      "image/png": "[encoded data removed]",
      "text/plain": [
       "<Figure size 640x480 with 1 Axes>"
      ]
     },
     "metadata": {},
     "output_type": "display_data"
    }
   ],
   "source": [
    "genetic_algorithm_plot(population=cityList, population_size=100, elite_size=20, mutation_rate=0.01, generations=200, crossover_function=OX1_crossover, mutator_function=DM_mutate)"
   ]
  },
  {
   "attachments": {},
   "cell_type": "markdown",
   "metadata": {},
   "source": [
    "## Run with different operators"
   ]
  },
  {
   "cell_type": "code",
   "execution_count": 38,
   "metadata": {},
   "outputs": [],
   "source": [
    "crossover_functions = {\n",
    "    OX1_crossover: \"OX1\",\n",
    "    POS_crossover: \"POS\",\n",
    "    ER_crossover: \"ER\",\n",
    "}\n",
    "mutation_functions = {\n",
    "    DM_mutate: \"DM\",\n",
    "    ISM_mutate: \"ISM\",\n",
    "    IVM_mutate: \"IVM\",\n",
    "}\n",
    "results = {}\n",
    "for mutation_function, mutation_function_name in mutation_functions.items():\n",
    "    for crossover_function, crossover_function_name in crossover_functions.items():\n",
    "        print(f'calculating for {mutation_function_name} {crossover_function_name}')\n",
    "        algorithm_output = genetic_algorithm(population=cityList, population_size=100, elite_size=20, mutation_rate=0.07, generations=200, crossover_function=crossover_function, mutator_function=mutation_function)\n",
    "        results[f'{mutation_function_name}-{crossover_function_name}'] = algorithm_output\n",
    "        print('done')"
   ]
  },
  {
   "attachments": {},
   "cell_type": "markdown",
   "metadata": {},
   "source": [
    "import json\n",
    "print(json.dumps(results,indent=1))"
   ]
  }
 ],
 "metadata": {
  "kernelspec": {
   "display_name": "Python 3",
   "language": "python",
   "name": "python3"
  },
  "language_info": {
   "codemirror_mode": {
    "name": "ipython",
    "version": 3
   },
   "file_extension": ".py",
   "mimetype": "text/x-python",
   "name": "python",
   "nbconvert_exporter": "python",
   "pygments_lexer": "ipython3",
   "version": "3.10.6"
  },
  "orig_nbformat": 4
 },
 "nbformat": 4,
 "nbformat_minor": 2
}
